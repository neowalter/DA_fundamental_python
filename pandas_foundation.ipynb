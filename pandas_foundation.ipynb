{
  "nbformat": 4,
  "nbformat_minor": 0,
  "metadata": {
    "colab": {
      "name": "pandas_foundation.ipynb",
      "provenance": [],
      "collapsed_sections": [
        "sXWQiNNQqyIm"
      ],
      "authorship_tag": "ABX9TyOtKnZL4ghlMkLxceC5BVmQ"
    },
    "kernelspec": {
      "name": "python3",
      "display_name": "Python 3"
    }
  },
  "cells": [
    {
      "cell_type": "markdown",
      "metadata": {
        "id": "sXWQiNNQqyIm"
      },
      "source": [
        "# Series"
      ]
    },
    {
      "cell_type": "code",
      "metadata": {
        "id": "EIMhpi9ldVlY"
      },
      "source": [
        "import pandas as pd\n",
        "import numpy as np"
      ],
      "execution_count": null,
      "outputs": []
    },
    {
      "cell_type": "code",
      "metadata": {
        "colab": {
          "base_uri": "https://localhost:8080/"
        },
        "id": "lWadXfgMq8Rv",
        "outputId": "85d7b6d3-67fc-4494-e24f-912a7f1f7401"
      },
      "source": [
        "my_simple_series = pd.Series(np.random.randn(5), index=['a', 'b', 'c', 'd', 'e'])\n",
        "my_simple_series"
      ],
      "execution_count": null,
      "outputs": [
        {
          "output_type": "execute_result",
          "data": {
            "text/plain": [
              "a   -3.110309\n",
              "b   -0.487639\n",
              "c    0.543584\n",
              "d    0.172280\n",
              "e    1.707252\n",
              "dtype: float64"
            ]
          },
          "metadata": {
            "tags": []
          },
          "execution_count": 2
        }
      ]
    },
    {
      "cell_type": "code",
      "metadata": {
        "colab": {
          "base_uri": "https://localhost:8080/"
        },
        "id": "ZQj9QfLEq_E9",
        "outputId": "dcfafc5e-832f-4404-c71f-8513996ce7ea"
      },
      "source": [
        "my_simple_series.index"
      ],
      "execution_count": null,
      "outputs": [
        {
          "output_type": "execute_result",
          "data": {
            "text/plain": [
              "Index(['a', 'b', 'c', 'd', 'e'], dtype='object')"
            ]
          },
          "metadata": {
            "tags": []
          },
          "execution_count": 3
        }
      ]
    },
    {
      "cell_type": "code",
      "metadata": {
        "colab": {
          "base_uri": "https://localhost:8080/"
        },
        "id": "VGJ4Pj-frlBK",
        "outputId": "94ec0106-b043-46a5-94cc-4c7649516e97"
      },
      "source": [
        "my_dates_index = pd.date_range('20200101', periods=6)\n",
        "my_dates_index"
      ],
      "execution_count": null,
      "outputs": [
        {
          "output_type": "execute_result",
          "data": {
            "text/plain": [
              "DatetimeIndex(['2020-01-01', '2020-01-02', '2020-01-03', '2020-01-04',\n",
              "               '2020-01-05', '2020-01-06'],\n",
              "              dtype='datetime64[ns]', freq='D')"
            ]
          },
          "metadata": {
            "tags": []
          },
          "execution_count": 6
        }
      ]
    },
    {
      "cell_type": "code",
      "metadata": {
        "colab": {
          "base_uri": "https://localhost:8080/"
        },
        "id": "ejeXMRT4rpce",
        "outputId": "e01f7a40-5a34-4691-9373-31ff911b5821"
      },
      "source": [
        "sample_numpy_data = np.array(np.arange(24)).reshape((6,4))\n",
        "sample_numpy_data"
      ],
      "execution_count": null,
      "outputs": [
        {
          "output_type": "execute_result",
          "data": {
            "text/plain": [
              "array([[ 0,  1,  2,  3],\n",
              "       [ 4,  5,  6,  7],\n",
              "       [ 8,  9, 10, 11],\n",
              "       [12, 13, 14, 15],\n",
              "       [16, 17, 18, 19],\n",
              "       [20, 21, 22, 23]])"
            ]
          },
          "metadata": {
            "tags": []
          },
          "execution_count": 7
        }
      ]
    },
    {
      "cell_type": "markdown",
      "metadata": {
        "id": "kgd4e7xk2eUv"
      },
      "source": [
        "# Data frame"
      ]
    },
    {
      "cell_type": "code",
      "metadata": {
        "colab": {
          "base_uri": "https://localhost:8080/",
          "height": 235
        },
        "id": "LigIMexwrlRO",
        "outputId": "028244c8-7189-4527-cd02-dc431ddc7bd6"
      },
      "source": [
        "sample_df = pd.DataFrame(sample_numpy_data, index=my_dates_index, columns=list('ABCD'))\n",
        "sample_df"
      ],
      "execution_count": null,
      "outputs": [
        {
          "output_type": "execute_result",
          "data": {
            "text/html": [
              "<div>\n",
              "<style scoped>\n",
              "    .dataframe tbody tr th:only-of-type {\n",
              "        vertical-align: middle;\n",
              "    }\n",
              "\n",
              "    .dataframe tbody tr th {\n",
              "        vertical-align: top;\n",
              "    }\n",
              "\n",
              "    .dataframe thead th {\n",
              "        text-align: right;\n",
              "    }\n",
              "</style>\n",
              "<table border=\"1\" class=\"dataframe\">\n",
              "  <thead>\n",
              "    <tr style=\"text-align: right;\">\n",
              "      <th></th>\n",
              "      <th>A</th>\n",
              "      <th>B</th>\n",
              "      <th>C</th>\n",
              "      <th>D</th>\n",
              "    </tr>\n",
              "  </thead>\n",
              "  <tbody>\n",
              "    <tr>\n",
              "      <th>2020-01-01</th>\n",
              "      <td>0</td>\n",
              "      <td>1</td>\n",
              "      <td>2</td>\n",
              "      <td>3</td>\n",
              "    </tr>\n",
              "    <tr>\n",
              "      <th>2020-01-02</th>\n",
              "      <td>4</td>\n",
              "      <td>5</td>\n",
              "      <td>6</td>\n",
              "      <td>7</td>\n",
              "    </tr>\n",
              "    <tr>\n",
              "      <th>2020-01-03</th>\n",
              "      <td>8</td>\n",
              "      <td>9</td>\n",
              "      <td>10</td>\n",
              "      <td>11</td>\n",
              "    </tr>\n",
              "    <tr>\n",
              "      <th>2020-01-04</th>\n",
              "      <td>12</td>\n",
              "      <td>13</td>\n",
              "      <td>14</td>\n",
              "      <td>15</td>\n",
              "    </tr>\n",
              "    <tr>\n",
              "      <th>2020-01-05</th>\n",
              "      <td>16</td>\n",
              "      <td>17</td>\n",
              "      <td>18</td>\n",
              "      <td>19</td>\n",
              "    </tr>\n",
              "    <tr>\n",
              "      <th>2020-01-06</th>\n",
              "      <td>20</td>\n",
              "      <td>21</td>\n",
              "      <td>22</td>\n",
              "      <td>23</td>\n",
              "    </tr>\n",
              "  </tbody>\n",
              "</table>\n",
              "</div>"
            ],
            "text/plain": [
              "             A   B   C   D\n",
              "2020-01-01   0   1   2   3\n",
              "2020-01-02   4   5   6   7\n",
              "2020-01-03   8   9  10  11\n",
              "2020-01-04  12  13  14  15\n",
              "2020-01-05  16  17  18  19\n",
              "2020-01-06  20  21  22  23"
            ]
          },
          "metadata": {
            "tags": []
          },
          "execution_count": 8
        }
      ]
    },
    {
      "cell_type": "code",
      "metadata": {
        "colab": {
          "base_uri": "https://localhost:8080/"
        },
        "id": "lVPuQh4kuT9Y",
        "outputId": "831e14f7-93c6-4acf-8afb-1ed076ec92cc"
      },
      "source": [
        "sample_df['C']"
      ],
      "execution_count": null,
      "outputs": [
        {
          "output_type": "execute_result",
          "data": {
            "text/plain": [
              "2020-01-01     2\n",
              "2020-01-02     6\n",
              "2020-01-03    10\n",
              "2020-01-04    14\n",
              "2020-01-05    18\n",
              "2020-01-06    22\n",
              "Freq: D, Name: C, dtype: int64"
            ]
          },
          "metadata": {
            "tags": []
          },
          "execution_count": 9
        }
      ]
    },
    {
      "cell_type": "code",
      "metadata": {
        "colab": {
          "base_uri": "https://localhost:8080/",
          "height": 173
        },
        "id": "dz9WskCWuUKm",
        "outputId": "448295e3-56a9-4f05-a923-07136cba4eeb"
      },
      "source": [
        "sample_df['2020-01-01':'2020-01-04']"
      ],
      "execution_count": null,
      "outputs": [
        {
          "output_type": "execute_result",
          "data": {
            "text/html": [
              "<div>\n",
              "<style scoped>\n",
              "    .dataframe tbody tr th:only-of-type {\n",
              "        vertical-align: middle;\n",
              "    }\n",
              "\n",
              "    .dataframe tbody tr th {\n",
              "        vertical-align: top;\n",
              "    }\n",
              "\n",
              "    .dataframe thead th {\n",
              "        text-align: right;\n",
              "    }\n",
              "</style>\n",
              "<table border=\"1\" class=\"dataframe\">\n",
              "  <thead>\n",
              "    <tr style=\"text-align: right;\">\n",
              "      <th></th>\n",
              "      <th>A</th>\n",
              "      <th>B</th>\n",
              "      <th>C</th>\n",
              "      <th>D</th>\n",
              "    </tr>\n",
              "  </thead>\n",
              "  <tbody>\n",
              "    <tr>\n",
              "      <th>2020-01-01</th>\n",
              "      <td>0</td>\n",
              "      <td>1</td>\n",
              "      <td>2</td>\n",
              "      <td>3</td>\n",
              "    </tr>\n",
              "    <tr>\n",
              "      <th>2020-01-02</th>\n",
              "      <td>4</td>\n",
              "      <td>5</td>\n",
              "      <td>6</td>\n",
              "      <td>7</td>\n",
              "    </tr>\n",
              "    <tr>\n",
              "      <th>2020-01-03</th>\n",
              "      <td>8</td>\n",
              "      <td>9</td>\n",
              "      <td>10</td>\n",
              "      <td>11</td>\n",
              "    </tr>\n",
              "    <tr>\n",
              "      <th>2020-01-04</th>\n",
              "      <td>12</td>\n",
              "      <td>13</td>\n",
              "      <td>14</td>\n",
              "      <td>15</td>\n",
              "    </tr>\n",
              "  </tbody>\n",
              "</table>\n",
              "</div>"
            ],
            "text/plain": [
              "             A   B   C   D\n",
              "2020-01-01   0   1   2   3\n",
              "2020-01-02   4   5   6   7\n",
              "2020-01-03   8   9  10  11\n",
              "2020-01-04  12  13  14  15"
            ]
          },
          "metadata": {
            "tags": []
          },
          "execution_count": 12
        }
      ]
    },
    {
      "cell_type": "code",
      "metadata": {
        "colab": {
          "base_uri": "https://localhost:8080/",
          "height": 111
        },
        "id": "nrbmLIRxuXEo",
        "outputId": "e11c0f5f-fd6e-41c7-ec2d-10e49a6bf2c3"
      },
      "source": [
        "sample_df.loc[my_dates_index[1:3]]"
      ],
      "execution_count": null,
      "outputs": [
        {
          "output_type": "execute_result",
          "data": {
            "text/html": [
              "<div>\n",
              "<style scoped>\n",
              "    .dataframe tbody tr th:only-of-type {\n",
              "        vertical-align: middle;\n",
              "    }\n",
              "\n",
              "    .dataframe tbody tr th {\n",
              "        vertical-align: top;\n",
              "    }\n",
              "\n",
              "    .dataframe thead th {\n",
              "        text-align: right;\n",
              "    }\n",
              "</style>\n",
              "<table border=\"1\" class=\"dataframe\">\n",
              "  <thead>\n",
              "    <tr style=\"text-align: right;\">\n",
              "      <th></th>\n",
              "      <th>A</th>\n",
              "      <th>B</th>\n",
              "      <th>C</th>\n",
              "      <th>D</th>\n",
              "    </tr>\n",
              "  </thead>\n",
              "  <tbody>\n",
              "    <tr>\n",
              "      <th>2020-01-02</th>\n",
              "      <td>4</td>\n",
              "      <td>5</td>\n",
              "      <td>6</td>\n",
              "      <td>7</td>\n",
              "    </tr>\n",
              "    <tr>\n",
              "      <th>2020-01-03</th>\n",
              "      <td>8</td>\n",
              "      <td>9</td>\n",
              "      <td>10</td>\n",
              "      <td>11</td>\n",
              "    </tr>\n",
              "  </tbody>\n",
              "</table>\n",
              "</div>"
            ],
            "text/plain": [
              "            A  B   C   D\n",
              "2020-01-02  4  5   6   7\n",
              "2020-01-03  8  9  10  11"
            ]
          },
          "metadata": {
            "tags": []
          },
          "execution_count": 15
        }
      ]
    },
    {
      "cell_type": "code",
      "metadata": {
        "colab": {
          "base_uri": "https://localhost:8080/",
          "height": 235
        },
        "id": "6eegumUlughD",
        "outputId": "bfd64858-3931-463c-f68d-572b90ee8b28"
      },
      "source": [
        "sample_df[sample_df >= 11]"
      ],
      "execution_count": null,
      "outputs": [
        {
          "output_type": "execute_result",
          "data": {
            "text/html": [
              "<div>\n",
              "<style scoped>\n",
              "    .dataframe tbody tr th:only-of-type {\n",
              "        vertical-align: middle;\n",
              "    }\n",
              "\n",
              "    .dataframe tbody tr th {\n",
              "        vertical-align: top;\n",
              "    }\n",
              "\n",
              "    .dataframe thead th {\n",
              "        text-align: right;\n",
              "    }\n",
              "</style>\n",
              "<table border=\"1\" class=\"dataframe\">\n",
              "  <thead>\n",
              "    <tr style=\"text-align: right;\">\n",
              "      <th></th>\n",
              "      <th>A</th>\n",
              "      <th>B</th>\n",
              "      <th>C</th>\n",
              "      <th>D</th>\n",
              "    </tr>\n",
              "  </thead>\n",
              "  <tbody>\n",
              "    <tr>\n",
              "      <th>2020-01-01</th>\n",
              "      <td>NaN</td>\n",
              "      <td>NaN</td>\n",
              "      <td>NaN</td>\n",
              "      <td>NaN</td>\n",
              "    </tr>\n",
              "    <tr>\n",
              "      <th>2020-01-02</th>\n",
              "      <td>NaN</td>\n",
              "      <td>NaN</td>\n",
              "      <td>NaN</td>\n",
              "      <td>NaN</td>\n",
              "    </tr>\n",
              "    <tr>\n",
              "      <th>2020-01-03</th>\n",
              "      <td>NaN</td>\n",
              "      <td>NaN</td>\n",
              "      <td>NaN</td>\n",
              "      <td>11.0</td>\n",
              "    </tr>\n",
              "    <tr>\n",
              "      <th>2020-01-04</th>\n",
              "      <td>12.0</td>\n",
              "      <td>13.0</td>\n",
              "      <td>14.0</td>\n",
              "      <td>15.0</td>\n",
              "    </tr>\n",
              "    <tr>\n",
              "      <th>2020-01-05</th>\n",
              "      <td>16.0</td>\n",
              "      <td>17.0</td>\n",
              "      <td>18.0</td>\n",
              "      <td>19.0</td>\n",
              "    </tr>\n",
              "    <tr>\n",
              "      <th>2020-01-06</th>\n",
              "      <td>20.0</td>\n",
              "      <td>21.0</td>\n",
              "      <td>22.0</td>\n",
              "      <td>23.0</td>\n",
              "    </tr>\n",
              "  </tbody>\n",
              "</table>\n",
              "</div>"
            ],
            "text/plain": [
              "               A     B     C     D\n",
              "2020-01-01   NaN   NaN   NaN   NaN\n",
              "2020-01-02   NaN   NaN   NaN   NaN\n",
              "2020-01-03   NaN   NaN   NaN  11.0\n",
              "2020-01-04  12.0  13.0  14.0  15.0\n",
              "2020-01-05  16.0  17.0  18.0  19.0\n",
              "2020-01-06  20.0  21.0  22.0  23.0"
            ]
          },
          "metadata": {
            "tags": []
          },
          "execution_count": 16
        }
      ]
    },
    {
      "cell_type": "code",
      "metadata": {
        "colab": {
          "base_uri": "https://localhost:8080/",
          "height": 235
        },
        "id": "iO8xv05mu88p",
        "outputId": "70f72a7e-fa8c-4d5d-8a6d-932d47758823"
      },
      "source": [
        "sample_df_2 = sample_df.copy()\n",
        "sample_df_2['Fruits'] = ['apple', 'orange','banana','strawberry','blueberry','pineapple']\n",
        "sample_df_2"
      ],
      "execution_count": null,
      "outputs": [
        {
          "output_type": "execute_result",
          "data": {
            "text/html": [
              "<div>\n",
              "<style scoped>\n",
              "    .dataframe tbody tr th:only-of-type {\n",
              "        vertical-align: middle;\n",
              "    }\n",
              "\n",
              "    .dataframe tbody tr th {\n",
              "        vertical-align: top;\n",
              "    }\n",
              "\n",
              "    .dataframe thead th {\n",
              "        text-align: right;\n",
              "    }\n",
              "</style>\n",
              "<table border=\"1\" class=\"dataframe\">\n",
              "  <thead>\n",
              "    <tr style=\"text-align: right;\">\n",
              "      <th></th>\n",
              "      <th>A</th>\n",
              "      <th>B</th>\n",
              "      <th>C</th>\n",
              "      <th>D</th>\n",
              "      <th>Fruits</th>\n",
              "    </tr>\n",
              "  </thead>\n",
              "  <tbody>\n",
              "    <tr>\n",
              "      <th>2020-01-01</th>\n",
              "      <td>0</td>\n",
              "      <td>1</td>\n",
              "      <td>2</td>\n",
              "      <td>3</td>\n",
              "      <td>apple</td>\n",
              "    </tr>\n",
              "    <tr>\n",
              "      <th>2020-01-02</th>\n",
              "      <td>4</td>\n",
              "      <td>5</td>\n",
              "      <td>6</td>\n",
              "      <td>7</td>\n",
              "      <td>orange</td>\n",
              "    </tr>\n",
              "    <tr>\n",
              "      <th>2020-01-03</th>\n",
              "      <td>8</td>\n",
              "      <td>9</td>\n",
              "      <td>10</td>\n",
              "      <td>11</td>\n",
              "      <td>banana</td>\n",
              "    </tr>\n",
              "    <tr>\n",
              "      <th>2020-01-04</th>\n",
              "      <td>12</td>\n",
              "      <td>13</td>\n",
              "      <td>14</td>\n",
              "      <td>15</td>\n",
              "      <td>strawberry</td>\n",
              "    </tr>\n",
              "    <tr>\n",
              "      <th>2020-01-05</th>\n",
              "      <td>16</td>\n",
              "      <td>17</td>\n",
              "      <td>18</td>\n",
              "      <td>19</td>\n",
              "      <td>blueberry</td>\n",
              "    </tr>\n",
              "    <tr>\n",
              "      <th>2020-01-06</th>\n",
              "      <td>20</td>\n",
              "      <td>21</td>\n",
              "      <td>22</td>\n",
              "      <td>23</td>\n",
              "      <td>pineapple</td>\n",
              "    </tr>\n",
              "  </tbody>\n",
              "</table>\n",
              "</div>"
            ],
            "text/plain": [
              "             A   B   C   D      Fruits\n",
              "2020-01-01   0   1   2   3       apple\n",
              "2020-01-02   4   5   6   7      orange\n",
              "2020-01-03   8   9  10  11      banana\n",
              "2020-01-04  12  13  14  15  strawberry\n",
              "2020-01-05  16  17  18  19   blueberry\n",
              "2020-01-06  20  21  22  23   pineapple"
            ]
          },
          "metadata": {
            "tags": []
          },
          "execution_count": 17
        }
      ]
    },
    {
      "cell_type": "code",
      "metadata": {
        "colab": {
          "base_uri": "https://localhost:8080/",
          "height": 111
        },
        "id": "jUn_wSvTu9jq",
        "outputId": "86e2ef2b-fb25-4003-e189-c7da49163240"
      },
      "source": [
        "sample_df_2[sample_df_2['Fruits'].isin(['banana','pineapple', 'smoothy'])]"
      ],
      "execution_count": null,
      "outputs": [
        {
          "output_type": "execute_result",
          "data": {
            "text/html": [
              "<div>\n",
              "<style scoped>\n",
              "    .dataframe tbody tr th:only-of-type {\n",
              "        vertical-align: middle;\n",
              "    }\n",
              "\n",
              "    .dataframe tbody tr th {\n",
              "        vertical-align: top;\n",
              "    }\n",
              "\n",
              "    .dataframe thead th {\n",
              "        text-align: right;\n",
              "    }\n",
              "</style>\n",
              "<table border=\"1\" class=\"dataframe\">\n",
              "  <thead>\n",
              "    <tr style=\"text-align: right;\">\n",
              "      <th></th>\n",
              "      <th>A</th>\n",
              "      <th>B</th>\n",
              "      <th>C</th>\n",
              "      <th>D</th>\n",
              "      <th>Fruits</th>\n",
              "    </tr>\n",
              "  </thead>\n",
              "  <tbody>\n",
              "    <tr>\n",
              "      <th>2020-01-03</th>\n",
              "      <td>8</td>\n",
              "      <td>9</td>\n",
              "      <td>10</td>\n",
              "      <td>11</td>\n",
              "      <td>banana</td>\n",
              "    </tr>\n",
              "    <tr>\n",
              "      <th>2020-01-06</th>\n",
              "      <td>20</td>\n",
              "      <td>21</td>\n",
              "      <td>22</td>\n",
              "      <td>23</td>\n",
              "      <td>pineapple</td>\n",
              "    </tr>\n",
              "  </tbody>\n",
              "</table>\n",
              "</div>"
            ],
            "text/plain": [
              "             A   B   C   D     Fruits\n",
              "2020-01-03   8   9  10  11     banana\n",
              "2020-01-06  20  21  22  23  pineapple"
            ]
          },
          "metadata": {
            "tags": []
          },
          "execution_count": 18
        }
      ]
    },
    {
      "cell_type": "code",
      "metadata": {
        "id": "W-HXoh2uu-6_"
      },
      "source": [
        "##### isin function http://pandas.pydata.org/pandas-docs/stable/generated/pandas.Series.isin.html"
      ],
      "execution_count": null,
      "outputs": []
    },
    {
      "cell_type": "code",
      "metadata": {
        "id": "f99xiEKrvfxf"
      },
      "source": [
        "#####  reindex http://pandas.pydata.org/pandas-docs/stable/generated/pandas.DataFrame.reindex.html\n",
        "#####  dropna  http://pandas.pydata.org/pandas-docs/stable/generated/pandas.DataFrame.dropna.html\n",
        "#####  fillna  http://pandas.pydata.org/pandas-docs/stable/generated/pandas.DataFrame.fillna.html\n"
      ],
      "execution_count": null,
      "outputs": []
    },
    {
      "cell_type": "code",
      "metadata": {
        "colab": {
          "base_uri": "https://localhost:8080/",
          "height": 297
        },
        "id": "vTVUhfLt0I73",
        "outputId": "dd3850e4-875f-45c1-85a3-dd8cf941abc4"
      },
      "source": [
        "sample_df_2.describe()"
      ],
      "execution_count": null,
      "outputs": [
        {
          "output_type": "execute_result",
          "data": {
            "text/html": [
              "<div>\n",
              "<style scoped>\n",
              "    .dataframe tbody tr th:only-of-type {\n",
              "        vertical-align: middle;\n",
              "    }\n",
              "\n",
              "    .dataframe tbody tr th {\n",
              "        vertical-align: top;\n",
              "    }\n",
              "\n",
              "    .dataframe thead th {\n",
              "        text-align: right;\n",
              "    }\n",
              "</style>\n",
              "<table border=\"1\" class=\"dataframe\">\n",
              "  <thead>\n",
              "    <tr style=\"text-align: right;\">\n",
              "      <th></th>\n",
              "      <th>A</th>\n",
              "      <th>B</th>\n",
              "      <th>C</th>\n",
              "      <th>D</th>\n",
              "    </tr>\n",
              "  </thead>\n",
              "  <tbody>\n",
              "    <tr>\n",
              "      <th>count</th>\n",
              "      <td>6.000000</td>\n",
              "      <td>6.000000</td>\n",
              "      <td>6.000000</td>\n",
              "      <td>6.000000</td>\n",
              "    </tr>\n",
              "    <tr>\n",
              "      <th>mean</th>\n",
              "      <td>10.000000</td>\n",
              "      <td>11.000000</td>\n",
              "      <td>12.000000</td>\n",
              "      <td>13.000000</td>\n",
              "    </tr>\n",
              "    <tr>\n",
              "      <th>std</th>\n",
              "      <td>7.483315</td>\n",
              "      <td>7.483315</td>\n",
              "      <td>7.483315</td>\n",
              "      <td>7.483315</td>\n",
              "    </tr>\n",
              "    <tr>\n",
              "      <th>min</th>\n",
              "      <td>0.000000</td>\n",
              "      <td>1.000000</td>\n",
              "      <td>2.000000</td>\n",
              "      <td>3.000000</td>\n",
              "    </tr>\n",
              "    <tr>\n",
              "      <th>25%</th>\n",
              "      <td>5.000000</td>\n",
              "      <td>6.000000</td>\n",
              "      <td>7.000000</td>\n",
              "      <td>8.000000</td>\n",
              "    </tr>\n",
              "    <tr>\n",
              "      <th>50%</th>\n",
              "      <td>10.000000</td>\n",
              "      <td>11.000000</td>\n",
              "      <td>12.000000</td>\n",
              "      <td>13.000000</td>\n",
              "    </tr>\n",
              "    <tr>\n",
              "      <th>75%</th>\n",
              "      <td>15.000000</td>\n",
              "      <td>16.000000</td>\n",
              "      <td>17.000000</td>\n",
              "      <td>18.000000</td>\n",
              "    </tr>\n",
              "    <tr>\n",
              "      <th>max</th>\n",
              "      <td>20.000000</td>\n",
              "      <td>21.000000</td>\n",
              "      <td>22.000000</td>\n",
              "      <td>23.000000</td>\n",
              "    </tr>\n",
              "  </tbody>\n",
              "</table>\n",
              "</div>"
            ],
            "text/plain": [
              "               A          B          C          D\n",
              "count   6.000000   6.000000   6.000000   6.000000\n",
              "mean   10.000000  11.000000  12.000000  13.000000\n",
              "std     7.483315   7.483315   7.483315   7.483315\n",
              "min     0.000000   1.000000   2.000000   3.000000\n",
              "25%     5.000000   6.000000   7.000000   8.000000\n",
              "50%    10.000000  11.000000  12.000000  13.000000\n",
              "75%    15.000000  16.000000  17.000000  18.000000\n",
              "max    20.000000  21.000000  22.000000  23.000000"
            ]
          },
          "metadata": {
            "tags": []
          },
          "execution_count": 20
        }
      ]
    },
    {
      "cell_type": "code",
      "metadata": {
        "colab": {
          "base_uri": "https://localhost:8080/"
        },
        "id": "yEmC1Blj0KR4",
        "outputId": "312aaba2-f487-4783-c62c-5e8a11034edc"
      },
      "source": [
        "sample_df_2.mean()"
      ],
      "execution_count": null,
      "outputs": [
        {
          "output_type": "execute_result",
          "data": {
            "text/plain": [
              "A    10.0\n",
              "B    11.0\n",
              "C    12.0\n",
              "D    13.0\n",
              "dtype: float64"
            ]
          },
          "metadata": {
            "tags": []
          },
          "execution_count": 21
        }
      ]
    },
    {
      "cell_type": "code",
      "metadata": {
        "colab": {
          "base_uri": "https://localhost:8080/",
          "height": 235
        },
        "id": "lKUivANt0OEI",
        "outputId": "581cc99d-d7e1-4538-fcba-5ae5b67aabbb"
      },
      "source": [
        "sample_df_2.apply(np.cumsum, axis=0)"
      ],
      "execution_count": null,
      "outputs": [
        {
          "output_type": "execute_result",
          "data": {
            "text/html": [
              "<div>\n",
              "<style scoped>\n",
              "    .dataframe tbody tr th:only-of-type {\n",
              "        vertical-align: middle;\n",
              "    }\n",
              "\n",
              "    .dataframe tbody tr th {\n",
              "        vertical-align: top;\n",
              "    }\n",
              "\n",
              "    .dataframe thead th {\n",
              "        text-align: right;\n",
              "    }\n",
              "</style>\n",
              "<table border=\"1\" class=\"dataframe\">\n",
              "  <thead>\n",
              "    <tr style=\"text-align: right;\">\n",
              "      <th></th>\n",
              "      <th>A</th>\n",
              "      <th>B</th>\n",
              "      <th>C</th>\n",
              "      <th>D</th>\n",
              "      <th>Fruits</th>\n",
              "    </tr>\n",
              "  </thead>\n",
              "  <tbody>\n",
              "    <tr>\n",
              "      <th>2020-01-01</th>\n",
              "      <td>0</td>\n",
              "      <td>1</td>\n",
              "      <td>2</td>\n",
              "      <td>3</td>\n",
              "      <td>apple</td>\n",
              "    </tr>\n",
              "    <tr>\n",
              "      <th>2020-01-02</th>\n",
              "      <td>4</td>\n",
              "      <td>6</td>\n",
              "      <td>8</td>\n",
              "      <td>10</td>\n",
              "      <td>appleorange</td>\n",
              "    </tr>\n",
              "    <tr>\n",
              "      <th>2020-01-03</th>\n",
              "      <td>12</td>\n",
              "      <td>15</td>\n",
              "      <td>18</td>\n",
              "      <td>21</td>\n",
              "      <td>appleorangebanana</td>\n",
              "    </tr>\n",
              "    <tr>\n",
              "      <th>2020-01-04</th>\n",
              "      <td>24</td>\n",
              "      <td>28</td>\n",
              "      <td>32</td>\n",
              "      <td>36</td>\n",
              "      <td>appleorangebananastrawberry</td>\n",
              "    </tr>\n",
              "    <tr>\n",
              "      <th>2020-01-05</th>\n",
              "      <td>40</td>\n",
              "      <td>45</td>\n",
              "      <td>50</td>\n",
              "      <td>55</td>\n",
              "      <td>appleorangebananastrawberryblueberry</td>\n",
              "    </tr>\n",
              "    <tr>\n",
              "      <th>2020-01-06</th>\n",
              "      <td>60</td>\n",
              "      <td>66</td>\n",
              "      <td>72</td>\n",
              "      <td>78</td>\n",
              "      <td>appleorangebananastrawberryblueberrypineapple</td>\n",
              "    </tr>\n",
              "  </tbody>\n",
              "</table>\n",
              "</div>"
            ],
            "text/plain": [
              "             A   B   C   D                                         Fruits\n",
              "2020-01-01   0   1   2   3                                          apple\n",
              "2020-01-02   4   6   8  10                                    appleorange\n",
              "2020-01-03  12  15  18  21                              appleorangebanana\n",
              "2020-01-04  24  28  32  36                    appleorangebananastrawberry\n",
              "2020-01-05  40  45  50  55           appleorangebananastrawberryblueberry\n",
              "2020-01-06  60  66  72  78  appleorangebananastrawberryblueberrypineapple"
            ]
          },
          "metadata": {
            "tags": []
          },
          "execution_count": 22
        }
      ]
    },
    {
      "cell_type": "code",
      "metadata": {
        "colab": {
          "base_uri": "https://localhost:8080/"
        },
        "id": "mt-G26cM0Rir",
        "outputId": "498f08e8-afc8-43e9-c305-8edf7dcf0668"
      },
      "source": [
        "s = pd.Series(['A', 'B', 'C', 'Aaba', 'Baca', np.nan, 'CABA', 'dog', 'cat'])\n",
        "s.str.lower()"
      ],
      "execution_count": null,
      "outputs": [
        {
          "output_type": "execute_result",
          "data": {
            "text/plain": [
              "0       a\n",
              "1       b\n",
              "2       c\n",
              "3    aaba\n",
              "4    baca\n",
              "5     NaN\n",
              "6    caba\n",
              "7     dog\n",
              "8     cat\n",
              "dtype: object"
            ]
          },
          "metadata": {
            "tags": []
          },
          "execution_count": 23
        }
      ]
    },
    {
      "cell_type": "code",
      "metadata": {
        "colab": {
          "base_uri": "https://localhost:8080/"
        },
        "id": "2qlMO9TZ0Yys",
        "outputId": "946f9e5a-e8fa-4135-bfad-7392a6a687a5"
      },
      "source": [
        "s.str.len()\n"
      ],
      "execution_count": null,
      "outputs": [
        {
          "output_type": "execute_result",
          "data": {
            "text/plain": [
              "0    1.0\n",
              "1    1.0\n",
              "2    1.0\n",
              "3    4.0\n",
              "4    4.0\n",
              "5    NaN\n",
              "6    4.0\n",
              "7    3.0\n",
              "8    3.0\n",
              "dtype: float64"
            ]
          },
          "metadata": {
            "tags": []
          },
          "execution_count": 24
        }
      ]
    },
    {
      "cell_type": "code",
      "metadata": {
        "colab": {
          "base_uri": "https://localhost:8080/",
          "height": 173
        },
        "id": "2dQR3aWT0ato",
        "outputId": "dcd6dfdc-f52b-41c4-c2f4-f409f65c323c"
      },
      "source": [
        "pieces = [sample_df_2[:2], sample_df_2[2:4], sample_df_2[4:]]\n",
        "new_list = pieces[0], pieces[2]\n",
        "pd.concat(new_list)"
      ],
      "execution_count": null,
      "outputs": [
        {
          "output_type": "execute_result",
          "data": {
            "text/html": [
              "<div>\n",
              "<style scoped>\n",
              "    .dataframe tbody tr th:only-of-type {\n",
              "        vertical-align: middle;\n",
              "    }\n",
              "\n",
              "    .dataframe tbody tr th {\n",
              "        vertical-align: top;\n",
              "    }\n",
              "\n",
              "    .dataframe thead th {\n",
              "        text-align: right;\n",
              "    }\n",
              "</style>\n",
              "<table border=\"1\" class=\"dataframe\">\n",
              "  <thead>\n",
              "    <tr style=\"text-align: right;\">\n",
              "      <th></th>\n",
              "      <th>A</th>\n",
              "      <th>B</th>\n",
              "      <th>C</th>\n",
              "      <th>D</th>\n",
              "      <th>Fruits</th>\n",
              "    </tr>\n",
              "  </thead>\n",
              "  <tbody>\n",
              "    <tr>\n",
              "      <th>2020-01-01</th>\n",
              "      <td>0</td>\n",
              "      <td>1</td>\n",
              "      <td>2</td>\n",
              "      <td>3</td>\n",
              "      <td>apple</td>\n",
              "    </tr>\n",
              "    <tr>\n",
              "      <th>2020-01-02</th>\n",
              "      <td>4</td>\n",
              "      <td>5</td>\n",
              "      <td>6</td>\n",
              "      <td>7</td>\n",
              "      <td>orange</td>\n",
              "    </tr>\n",
              "    <tr>\n",
              "      <th>2020-01-05</th>\n",
              "      <td>16</td>\n",
              "      <td>17</td>\n",
              "      <td>18</td>\n",
              "      <td>19</td>\n",
              "      <td>blueberry</td>\n",
              "    </tr>\n",
              "    <tr>\n",
              "      <th>2020-01-06</th>\n",
              "      <td>20</td>\n",
              "      <td>21</td>\n",
              "      <td>22</td>\n",
              "      <td>23</td>\n",
              "      <td>pineapple</td>\n",
              "    </tr>\n",
              "  </tbody>\n",
              "</table>\n",
              "</div>"
            ],
            "text/plain": [
              "             A   B   C   D     Fruits\n",
              "2020-01-01   0   1   2   3      apple\n",
              "2020-01-02   4   5   6   7     orange\n",
              "2020-01-05  16  17  18  19  blueberry\n",
              "2020-01-06  20  21  22  23  pineapple"
            ]
          },
          "metadata": {
            "tags": []
          },
          "execution_count": 25
        }
      ]
    },
    {
      "cell_type": "code",
      "metadata": {
        "colab": {
          "base_uri": "https://localhost:8080/",
          "height": 266
        },
        "id": "hqUi6F1E0xdf",
        "outputId": "ae0fd411-9f52-480b-ee73-80644649f6b6"
      },
      "source": [
        "new_last_row = sample_df_2.iloc[2]\n",
        "sample_df_2.append(new_last_row)\n"
      ],
      "execution_count": null,
      "outputs": [
        {
          "output_type": "execute_result",
          "data": {
            "text/html": [
              "<div>\n",
              "<style scoped>\n",
              "    .dataframe tbody tr th:only-of-type {\n",
              "        vertical-align: middle;\n",
              "    }\n",
              "\n",
              "    .dataframe tbody tr th {\n",
              "        vertical-align: top;\n",
              "    }\n",
              "\n",
              "    .dataframe thead th {\n",
              "        text-align: right;\n",
              "    }\n",
              "</style>\n",
              "<table border=\"1\" class=\"dataframe\">\n",
              "  <thead>\n",
              "    <tr style=\"text-align: right;\">\n",
              "      <th></th>\n",
              "      <th>A</th>\n",
              "      <th>B</th>\n",
              "      <th>C</th>\n",
              "      <th>D</th>\n",
              "      <th>Fruits</th>\n",
              "    </tr>\n",
              "  </thead>\n",
              "  <tbody>\n",
              "    <tr>\n",
              "      <th>2020-01-01</th>\n",
              "      <td>0</td>\n",
              "      <td>1</td>\n",
              "      <td>2</td>\n",
              "      <td>3</td>\n",
              "      <td>apple</td>\n",
              "    </tr>\n",
              "    <tr>\n",
              "      <th>2020-01-02</th>\n",
              "      <td>4</td>\n",
              "      <td>5</td>\n",
              "      <td>6</td>\n",
              "      <td>7</td>\n",
              "      <td>orange</td>\n",
              "    </tr>\n",
              "    <tr>\n",
              "      <th>2020-01-03</th>\n",
              "      <td>8</td>\n",
              "      <td>9</td>\n",
              "      <td>10</td>\n",
              "      <td>11</td>\n",
              "      <td>banana</td>\n",
              "    </tr>\n",
              "    <tr>\n",
              "      <th>2020-01-04</th>\n",
              "      <td>12</td>\n",
              "      <td>13</td>\n",
              "      <td>14</td>\n",
              "      <td>15</td>\n",
              "      <td>strawberry</td>\n",
              "    </tr>\n",
              "    <tr>\n",
              "      <th>2020-01-05</th>\n",
              "      <td>16</td>\n",
              "      <td>17</td>\n",
              "      <td>18</td>\n",
              "      <td>19</td>\n",
              "      <td>blueberry</td>\n",
              "    </tr>\n",
              "    <tr>\n",
              "      <th>2020-01-06</th>\n",
              "      <td>20</td>\n",
              "      <td>21</td>\n",
              "      <td>22</td>\n",
              "      <td>23</td>\n",
              "      <td>pineapple</td>\n",
              "    </tr>\n",
              "    <tr>\n",
              "      <th>2020-01-03</th>\n",
              "      <td>8</td>\n",
              "      <td>9</td>\n",
              "      <td>10</td>\n",
              "      <td>11</td>\n",
              "      <td>banana</td>\n",
              "    </tr>\n",
              "  </tbody>\n",
              "</table>\n",
              "</div>"
            ],
            "text/plain": [
              "             A   B   C   D      Fruits\n",
              "2020-01-01   0   1   2   3       apple\n",
              "2020-01-02   4   5   6   7      orange\n",
              "2020-01-03   8   9  10  11      banana\n",
              "2020-01-04  12  13  14  15  strawberry\n",
              "2020-01-05  16  17  18  19   blueberry\n",
              "2020-01-06  20  21  22  23   pineapple\n",
              "2020-01-03   8   9  10  11      banana"
            ]
          },
          "metadata": {
            "tags": []
          },
          "execution_count": 26
        }
      ]
    },
    {
      "cell_type": "code",
      "metadata": {
        "colab": {
          "base_uri": "https://localhost:8080/",
          "height": 173
        },
        "id": "6iCTnFZn1kiN",
        "outputId": "1d912637-436b-4af4-b68b-d57fccd2d0ee"
      },
      "source": [
        "left = pd.DataFrame({'my_key': ['K0', 'K1', 'K2', 'K3'],\n",
        " 'A': ['A0', 'A1', 'A2', 'A3'],\n",
        " 'B': ['B0', 'B1', 'B2', 'B3']})\n",
        "right = pd.DataFrame({'my_key': ['K0', 'K1', 'K2', 'K3'],\n",
        " 'C': ['C0', 'C1', 'C2', 'C3'],\n",
        " 'D': ['D0', 'D1', 'D2', 'D3']})\n",
        "result = pd.merge(left, right, on='my_key')\n",
        "result"
      ],
      "execution_count": null,
      "outputs": [
        {
          "output_type": "execute_result",
          "data": {
            "text/html": [
              "<div>\n",
              "<style scoped>\n",
              "    .dataframe tbody tr th:only-of-type {\n",
              "        vertical-align: middle;\n",
              "    }\n",
              "\n",
              "    .dataframe tbody tr th {\n",
              "        vertical-align: top;\n",
              "    }\n",
              "\n",
              "    .dataframe thead th {\n",
              "        text-align: right;\n",
              "    }\n",
              "</style>\n",
              "<table border=\"1\" class=\"dataframe\">\n",
              "  <thead>\n",
              "    <tr style=\"text-align: right;\">\n",
              "      <th></th>\n",
              "      <th>my_key</th>\n",
              "      <th>A</th>\n",
              "      <th>B</th>\n",
              "      <th>C</th>\n",
              "      <th>D</th>\n",
              "    </tr>\n",
              "  </thead>\n",
              "  <tbody>\n",
              "    <tr>\n",
              "      <th>0</th>\n",
              "      <td>K0</td>\n",
              "      <td>A0</td>\n",
              "      <td>B0</td>\n",
              "      <td>C0</td>\n",
              "      <td>D0</td>\n",
              "    </tr>\n",
              "    <tr>\n",
              "      <th>1</th>\n",
              "      <td>K1</td>\n",
              "      <td>A1</td>\n",
              "      <td>B1</td>\n",
              "      <td>C1</td>\n",
              "      <td>D1</td>\n",
              "    </tr>\n",
              "    <tr>\n",
              "      <th>2</th>\n",
              "      <td>K2</td>\n",
              "      <td>A2</td>\n",
              "      <td>B2</td>\n",
              "      <td>C2</td>\n",
              "      <td>D2</td>\n",
              "    </tr>\n",
              "    <tr>\n",
              "      <th>3</th>\n",
              "      <td>K3</td>\n",
              "      <td>A3</td>\n",
              "      <td>B3</td>\n",
              "      <td>C3</td>\n",
              "      <td>D3</td>\n",
              "    </tr>\n",
              "  </tbody>\n",
              "</table>\n",
              "</div>"
            ],
            "text/plain": [
              "  my_key   A   B   C   D\n",
              "0     K0  A0  B0  C0  D0\n",
              "1     K1  A1  B1  C1  D1\n",
              "2     K2  A2  B2  C2  D2\n",
              "3     K3  A3  B3  C3  D3"
            ]
          },
          "metadata": {
            "tags": []
          },
          "execution_count": 27
        }
      ]
    },
    {
      "cell_type": "code",
      "metadata": {
        "id": "1yNtFrwN1wrK"
      },
      "source": [
        "%matplotlib inline\n",
        "import pandas as pd\n",
        "import numpy as np\n",
        "import matplotlib.pyplot as plt\n",
        "import datetime\n",
        "from pandas_datareader import data, wb"
      ],
      "execution_count": null,
      "outputs": []
    },
    {
      "cell_type": "code",
      "metadata": {
        "colab": {
          "base_uri": "https://localhost:8080/",
          "height": 297
        },
        "id": "UFY_lxn_2ZIG",
        "outputId": "04ad615a-f59b-4b95-d067-f24ccb6a9c27"
      },
      "source": [
        "start = datetime.datetime(2010, 1, 1)\n",
        "end = datetime.datetime(2016, 7, 15)\n",
        "yahoo_df = data.DataReader(\"F\", 'yahoo', start, end)\n",
        "yahoo_df.plot()"
      ],
      "execution_count": null,
      "outputs": [
        {
          "output_type": "execute_result",
          "data": {
            "text/plain": [
              "<matplotlib.axes._subplots.AxesSubplot at 0x7fc124c5ff98>"
            ]
          },
          "metadata": {
            "tags": []
          },
          "execution_count": 29
        },
        {
          "output_type": "display_data",
          "data": {
            "image/png": "[encoded data removed]",
            "text/plain": [
              "<Figure size 432x288 with 1 Axes>"
            ]
          },
          "metadata": {
            "tags": [],
            "needs_background": "light"
          }
        }
      ]
    },
    {
      "cell_type": "code",
      "metadata": {
        "colab": {
          "base_uri": "https://localhost:8080/",
          "height": 235
        },
        "id": "uXjTk_1V2veY",
        "outputId": "ad26773c-8371-434a-f762-055fb0540629"
      },
      "source": [
        "yahoo_df.head()"
      ],
      "execution_count": null,
      "outputs": [
        {
          "output_type": "execute_result",
          "data": {
            "text/html": [
              "<div>\n",
              "<style scoped>\n",
              "    .dataframe tbody tr th:only-of-type {\n",
              "        vertical-align: middle;\n",
              "    }\n",
              "\n",
              "    .dataframe tbody tr th {\n",
              "        vertical-align: top;\n",
              "    }\n",
              "\n",
              "    .dataframe thead th {\n",
              "        text-align: right;\n",
              "    }\n",
              "</style>\n",
              "<table border=\"1\" class=\"dataframe\">\n",
              "  <thead>\n",
              "    <tr style=\"text-align: right;\">\n",
              "      <th></th>\n",
              "      <th>High</th>\n",
              "      <th>Low</th>\n",
              "      <th>Open</th>\n",
              "      <th>Close</th>\n",
              "      <th>Volume</th>\n",
              "      <th>Adj Close</th>\n",
              "    </tr>\n",
              "    <tr>\n",
              "      <th>Date</th>\n",
              "      <th></th>\n",
              "      <th></th>\n",
              "      <th></th>\n",
              "      <th></th>\n",
              "      <th></th>\n",
              "      <th></th>\n",
              "    </tr>\n",
              "  </thead>\n",
              "  <tbody>\n",
              "    <tr>\n",
              "      <th>2010-01-04</th>\n",
              "      <td>10.28</td>\n",
              "      <td>10.05</td>\n",
              "      <td>10.17</td>\n",
              "      <td>10.28</td>\n",
              "      <td>60855800.0</td>\n",
              "      <td>6.937616</td>\n",
              "    </tr>\n",
              "    <tr>\n",
              "      <th>2010-01-05</th>\n",
              "      <td>11.24</td>\n",
              "      <td>10.40</td>\n",
              "      <td>10.45</td>\n",
              "      <td>10.96</td>\n",
              "      <td>215620200.0</td>\n",
              "      <td>7.396526</td>\n",
              "    </tr>\n",
              "    <tr>\n",
              "      <th>2010-01-06</th>\n",
              "      <td>11.46</td>\n",
              "      <td>11.13</td>\n",
              "      <td>11.21</td>\n",
              "      <td>11.37</td>\n",
              "      <td>200070600.0</td>\n",
              "      <td>7.673220</td>\n",
              "    </tr>\n",
              "    <tr>\n",
              "      <th>2010-01-07</th>\n",
              "      <td>11.69</td>\n",
              "      <td>11.32</td>\n",
              "      <td>11.46</td>\n",
              "      <td>11.66</td>\n",
              "      <td>130201700.0</td>\n",
              "      <td>7.868933</td>\n",
              "    </tr>\n",
              "    <tr>\n",
              "      <th>2010-01-08</th>\n",
              "      <td>11.74</td>\n",
              "      <td>11.46</td>\n",
              "      <td>11.67</td>\n",
              "      <td>11.69</td>\n",
              "      <td>130463000.0</td>\n",
              "      <td>7.889179</td>\n",
              "    </tr>\n",
              "  </tbody>\n",
              "</table>\n",
              "</div>"
            ],
            "text/plain": [
              "             High    Low   Open  Close       Volume  Adj Close\n",
              "Date                                                          \n",
              "2010-01-04  10.28  10.05  10.17  10.28   60855800.0   6.937616\n",
              "2010-01-05  11.24  10.40  10.45  10.96  215620200.0   7.396526\n",
              "2010-01-06  11.46  11.13  11.21  11.37  200070600.0   7.673220\n",
              "2010-01-07  11.69  11.32  11.46  11.66  130201700.0   7.868933\n",
              "2010-01-08  11.74  11.46  11.67  11.69  130463000.0   7.889179"
            ]
          },
          "metadata": {
            "tags": []
          },
          "execution_count": 30
        }
      ]
    },
    {
      "cell_type": "code",
      "metadata": {
        "colab": {
          "base_uri": "https://localhost:8080/",
          "height": 450
        },
        "id": "wz8a_7ZC2u1p",
        "outputId": "9245ff3b-b095-4017-ab4c-3afb718f5eef"
      },
      "source": [
        "yahoo_df.groupby('Close').sum()"
      ],
      "execution_count": null,
      "outputs": [
        {
          "output_type": "execute_result",
          "data": {
            "text/html": [
              "<div>\n",
              "<style scoped>\n",
              "    .dataframe tbody tr th:only-of-type {\n",
              "        vertical-align: middle;\n",
              "    }\n",
              "\n",
              "    .dataframe tbody tr th {\n",
              "        vertical-align: top;\n",
              "    }\n",
              "\n",
              "    .dataframe thead th {\n",
              "        text-align: right;\n",
              "    }\n",
              "</style>\n",
              "<table border=\"1\" class=\"dataframe\">\n",
              "  <thead>\n",
              "    <tr style=\"text-align: right;\">\n",
              "      <th></th>\n",
              "      <th>High</th>\n",
              "      <th>Low</th>\n",
              "      <th>Open</th>\n",
              "      <th>Volume</th>\n",
              "      <th>Adj Close</th>\n",
              "    </tr>\n",
              "    <tr>\n",
              "      <th>Close</th>\n",
              "      <th></th>\n",
              "      <th></th>\n",
              "      <th></th>\n",
              "      <th></th>\n",
              "      <th></th>\n",
              "    </tr>\n",
              "  </thead>\n",
              "  <tbody>\n",
              "    <tr>\n",
              "      <th>8.920000</th>\n",
              "      <td>9.030000</td>\n",
              "      <td>8.820000</td>\n",
              "      <td>8.990000</td>\n",
              "      <td>45326500.0</td>\n",
              "      <td>6.102611</td>\n",
              "    </tr>\n",
              "    <tr>\n",
              "      <th>8.960000</th>\n",
              "      <td>9.110000</td>\n",
              "      <td>8.830000</td>\n",
              "      <td>9.050000</td>\n",
              "      <td>51798900.0</td>\n",
              "      <td>6.096806</td>\n",
              "    </tr>\n",
              "    <tr>\n",
              "      <th>8.970000</th>\n",
              "      <td>9.200000</td>\n",
              "      <td>8.910000</td>\n",
              "      <td>9.170000</td>\n",
              "      <td>44338200.0</td>\n",
              "      <td>6.103609</td>\n",
              "    </tr>\n",
              "    <tr>\n",
              "      <th>9.000000</th>\n",
              "      <td>9.100000</td>\n",
              "      <td>8.880000</td>\n",
              "      <td>8.990000</td>\n",
              "      <td>67986800.0</td>\n",
              "      <td>6.124023</td>\n",
              "    </tr>\n",
              "    <tr>\n",
              "      <th>9.040000</th>\n",
              "      <td>9.420000</td>\n",
              "      <td>8.990000</td>\n",
              "      <td>9.290000</td>\n",
              "      <td>65973000.0</td>\n",
              "      <td>6.184709</td>\n",
              "    </tr>\n",
              "    <tr>\n",
              "      <th>...</th>\n",
              "      <td>...</td>\n",
              "      <td>...</td>\n",
              "      <td>...</td>\n",
              "      <td>...</td>\n",
              "      <td>...</td>\n",
              "    </tr>\n",
              "    <tr>\n",
              "      <th>18.650000</th>\n",
              "      <td>18.750000</td>\n",
              "      <td>18.580000</td>\n",
              "      <td>18.610001</td>\n",
              "      <td>50279400.0</td>\n",
              "      <td>12.586242</td>\n",
              "    </tr>\n",
              "    <tr>\n",
              "      <th>18.680000</th>\n",
              "      <td>18.969999</td>\n",
              "      <td>18.549999</td>\n",
              "      <td>18.809999</td>\n",
              "      <td>100459700.0</td>\n",
              "      <td>12.606486</td>\n",
              "    </tr>\n",
              "    <tr>\n",
              "      <th>18.700001</th>\n",
              "      <td>18.770000</td>\n",
              "      <td>18.610001</td>\n",
              "      <td>18.660000</td>\n",
              "      <td>39737500.0</td>\n",
              "      <td>12.619986</td>\n",
              "    </tr>\n",
              "    <tr>\n",
              "      <th>18.709999</th>\n",
              "      <td>18.750000</td>\n",
              "      <td>18.290001</td>\n",
              "      <td>18.360001</td>\n",
              "      <td>66841400.0</td>\n",
              "      <td>12.626733</td>\n",
              "    </tr>\n",
              "    <tr>\n",
              "      <th>18.790001</th>\n",
              "      <td>18.879999</td>\n",
              "      <td>18.330000</td>\n",
              "      <td>18.520000</td>\n",
              "      <td>67711700.0</td>\n",
              "      <td>12.680722</td>\n",
              "    </tr>\n",
              "  </tbody>\n",
              "</table>\n",
              "<p>730 rows × 5 columns</p>\n",
              "</div>"
            ],
            "text/plain": [
              "                High        Low       Open       Volume  Adj Close\n",
              "Close                                                             \n",
              "8.920000    9.030000   8.820000   8.990000   45326500.0   6.102611\n",
              "8.960000    9.110000   8.830000   9.050000   51798900.0   6.096806\n",
              "8.970000    9.200000   8.910000   9.170000   44338200.0   6.103609\n",
              "9.000000    9.100000   8.880000   8.990000   67986800.0   6.124023\n",
              "9.040000    9.420000   8.990000   9.290000   65973000.0   6.184709\n",
              "...              ...        ...        ...          ...        ...\n",
              "18.650000  18.750000  18.580000  18.610001   50279400.0  12.586242\n",
              "18.680000  18.969999  18.549999  18.809999  100459700.0  12.606486\n",
              "18.700001  18.770000  18.610001  18.660000   39737500.0  12.619986\n",
              "18.709999  18.750000  18.290001  18.360001   66841400.0  12.626733\n",
              "18.790001  18.879999  18.330000  18.520000   67711700.0  12.680722\n",
              "\n",
              "[730 rows x 5 columns]"
            ]
          },
          "metadata": {
            "tags": []
          },
          "execution_count": 31
        }
      ]
    },
    {
      "cell_type": "code",
      "metadata": {
        "id": "5pNmpIwX3BKx"
      },
      "source": [
        "#####   categorical data  http://pandas.pydata.org/pandas-docs/stable/categorical.html"
      ],
      "execution_count": null,
      "outputs": []
    },
    {
      "cell_type": "code",
      "metadata": {
        "id": "uDhsB57y3Sv9"
      },
      "source": [
        "# a_df[\"level\"].cat.categories = [\"A\", \"B\", \"C\", \"D\", \"E\"]"
      ],
      "execution_count": null,
      "outputs": []
    },
    {
      "cell_type": "code",
      "metadata": {
        "id": "lUKXqUmt4qk5"
      },
      "source": [
        "#####  resampling  http://pandas.pydata.org/pandas-docs/stable/generated/pandas.DataFrame.resample.html"
      ],
      "execution_count": null,
      "outputs": []
    },
    {
      "cell_type": "code",
      "metadata": {
        "colab": {
          "base_uri": "https://localhost:8080/"
        },
        "id": "jTvD03GU43LD",
        "outputId": "cb719ea8-ddd8-4783-c5f9-df4fea70e27e"
      },
      "source": [
        "my_index = pd.date_range('1/1/2020', periods=9, freq='min')\n",
        "my_series = pd.Series(np.arange(9), index=my_index)\n",
        "my_series"
      ],
      "execution_count": null,
      "outputs": [
        {
          "output_type": "execute_result",
          "data": {
            "text/plain": [
              "2020-01-01 00:00:00    0\n",
              "2020-01-01 00:01:00    1\n",
              "2020-01-01 00:02:00    2\n",
              "2020-01-01 00:03:00    3\n",
              "2020-01-01 00:04:00    4\n",
              "2020-01-01 00:05:00    5\n",
              "2020-01-01 00:06:00    6\n",
              "2020-01-01 00:07:00    7\n",
              "2020-01-01 00:08:00    8\n",
              "Freq: T, dtype: int64"
            ]
          },
          "metadata": {
            "tags": []
          },
          "execution_count": 34
        }
      ]
    },
    {
      "cell_type": "code",
      "metadata": {
        "colab": {
          "base_uri": "https://localhost:8080/"
        },
        "id": "rNsk27Nj4-Iv",
        "outputId": "26fa07f4-9aff-4724-f775-efd553e73f3c"
      },
      "source": [
        "my_series.resample('3min').sum()"
      ],
      "execution_count": null,
      "outputs": [
        {
          "output_type": "execute_result",
          "data": {
            "text/plain": [
              "2020-01-01 00:00:00     3\n",
              "2020-01-01 00:03:00    12\n",
              "2020-01-01 00:06:00    21\n",
              "Freq: 3T, dtype: int64"
            ]
          },
          "metadata": {
            "tags": []
          },
          "execution_count": 35
        }
      ]
    },
    {
      "cell_type": "code",
      "metadata": {
        "colab": {
          "base_uri": "https://localhost:8080/"
        },
        "id": "VSsAAkNb5Ed-",
        "outputId": "c942bf96-b319-42c5-eb8a-de4cfeca5279"
      },
      "source": [
        "my_series.resample('3min', label='right', closed='right').sum()"
      ],
      "execution_count": null,
      "outputs": [
        {
          "output_type": "execute_result",
          "data": {
            "text/plain": [
              "2020-01-01 00:00:00     0\n",
              "2020-01-01 00:03:00     6\n",
              "2020-01-01 00:06:00    15\n",
              "2020-01-01 00:09:00    15\n",
              "Freq: 3T, dtype: int64"
            ]
          },
          "metadata": {
            "tags": []
          },
          "execution_count": 36
        }
      ]
    },
    {
      "cell_type": "code",
      "metadata": {
        "colab": {
          "base_uri": "https://localhost:8080/"
        },
        "id": "uCe3RPUO5Eur",
        "outputId": "c7250423-3496-4f1e-e8f1-874ead08dd95"
      },
      "source": [
        "my_series.resample('30S').asfreq()[0:5] "
      ],
      "execution_count": null,
      "outputs": [
        {
          "output_type": "execute_result",
          "data": {
            "text/plain": [
              "2020-01-01 00:00:00    0.0\n",
              "2020-01-01 00:00:30    NaN\n",
              "2020-01-01 00:01:00    1.0\n",
              "2020-01-01 00:01:30    NaN\n",
              "2020-01-01 00:02:00    2.0\n",
              "Freq: 30S, dtype: float64"
            ]
          },
          "metadata": {
            "tags": []
          },
          "execution_count": 37
        }
      ]
    },
    {
      "cell_type": "code",
      "metadata": {
        "id": "JueCGyWG5OhQ"
      },
      "source": [
        "import pandas as pd\n",
        "import numpy as np\n",
        "from datetime import datetime"
      ],
      "execution_count": null,
      "outputs": []
    },
    {
      "cell_type": "code",
      "metadata": {
        "colab": {
          "base_uri": "https://localhost:8080/"
        },
        "id": "u4LhC5W98Orn",
        "outputId": "12aad3f8-63c9-4331-c6ad-b433a4bce07c"
      },
      "source": [
        "now = datetime.now()\n",
        "now"
      ],
      "execution_count": null,
      "outputs": [
        {
          "output_type": "execute_result",
          "data": {
            "text/plain": [
              "datetime.datetime(2020, 11, 21, 13, 14, 20, 656143)"
            ]
          },
          "metadata": {
            "tags": []
          },
          "execution_count": 39
        }
      ]
    },
    {
      "cell_type": "code",
      "metadata": {
        "colab": {
          "base_uri": "https://localhost:8080/"
        },
        "id": "mFoaxQ3_8PX_",
        "outputId": "efd32c52-90af-4911-96d4-10693bee51ab"
      },
      "source": [
        "now.year, now.month, now.day"
      ],
      "execution_count": null,
      "outputs": [
        {
          "output_type": "execute_result",
          "data": {
            "text/plain": [
              "(2020, 11, 21)"
            ]
          },
          "metadata": {
            "tags": []
          },
          "execution_count": 40
        }
      ]
    },
    {
      "cell_type": "code",
      "metadata": {
        "id": "huqGnrA58gzB"
      },
      "source": [
        "####  insert  http://pandas.pydata.org/pandas-docs/stable/generated/pandas.DataFrame.insert.html\n",
        "####  panel   http://pandas.pydata.org/pandas-docs/stable/dsintro.html#panel\n",
        "####  plots   http://pandas.pydata.org/pandas-docs/stable/visualization.html"
      ],
      "execution_count": null,
      "outputs": []
    }
  ]
}