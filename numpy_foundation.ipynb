{
  "nbformat": 4,
  "nbformat_minor": 0,
  "metadata": {
    "colab": {
      "name": "numpy_foundation.ipynb",
      "provenance": [],
      "collapsed_sections": [],
      "authorship_tag": "ABX9TyPOygVLgc943lBEqV3tPpMR"
    },
    "kernelspec": {
      "name": "python3",
      "display_name": "Python 3"
    }
  },
  "cells": [
    {
      "cell_type": "markdown",
      "metadata": {
        "id": "6TE9HvEeFBGS"
      },
      "source": [
        "# Basic navigation"
      ]
    },
    {
      "cell_type": "markdown",
      "metadata": {
        "id": "iIaC146LFJgB"
      },
      "source": [
        "Save notebook: 'CTRL' + s  \n",
        "Create cell above current cell: 'ESC' + a  \n",
        "Create cell below current cell: 'ESC' + b  \n",
        "Delete current cell: 'ESC' + d + d  \n",
        "Cell editing\n",
        "*   copy: 'CTRL' + c\n",
        "*   cut: 'CTRL' + x\n",
        "*   paste: 'CTRL' + v\n",
        "*   undo: 'CTRL' + z\n"
      ]
    },
    {
      "cell_type": "code",
      "metadata": {
        "id": "8vOq3MqEEwCK"
      },
      "source": [
        "# This is an <h1> tag\n",
        "## This is an <h2> tag\n",
        "###### This is an <h6> tag"
      ],
      "execution_count": null,
      "outputs": []
    },
    {
      "cell_type": "markdown",
      "metadata": {
        "id": "RmmDIP1TGRYC"
      },
      "source": [
        "- [Github Location](https://github.com/neowalter/numpy_fundamental)\n",
        "- [Equation Examples](https://jupyter-notebook.readthedocs.io/en/latest/examples/Notebook/Typesetting%20Equations.html)"
      ]
    },
    {
      "cell_type": "markdown",
      "metadata": {
        "id": "06hU2-3cHb0H"
      },
      "source": [
        "# Array"
      ]
    },
    {
      "cell_type": "code",
      "metadata": {
        "colab": {
          "base_uri": "https://localhost:8080/"
        },
        "id": "wx0sCprSGYII",
        "outputId": "58b6f469-a128-4d3f-e135-6d050605dc64"
      },
      "source": [
        "import numpy as np\n",
        "\n",
        "print(np.__version__)"
      ],
      "execution_count": 2,
      "outputs": [
        {
          "output_type": "stream",
          "text": [
            "1.18.5\n"
          ],
          "name": "stdout"
        }
      ]
    },
    {
      "cell_type": "code",
      "metadata": {
        "colab": {
          "base_uri": "https://localhost:8080/"
        },
        "id": "2E5CtyP6HlYr",
        "outputId": "4039abaf-6f8e-4eee-96c1-78a4de0083af"
      },
      "source": [
        "np.arange(8)"
      ],
      "execution_count": null,
      "outputs": [
        {
          "output_type": "execute_result",
          "data": {
            "text/plain": [
              "array([0, 1, 2, 3, 4, 5, 6, 7])"
            ]
          },
          "metadata": {
            "tags": []
          },
          "execution_count": 2
        }
      ]
    },
    {
      "cell_type": "code",
      "metadata": {
        "colab": {
          "base_uri": "https://localhost:8080/"
        },
        "id": "yPeZ7JmrHy1h",
        "outputId": "d426d235-0763-477a-beca-ff37ae1456a1"
      },
      "source": [
        "np.arange(0, 66, step=5)"
      ],
      "execution_count": null,
      "outputs": [
        {
          "output_type": "execute_result",
          "data": {
            "text/plain": [
              "array([ 0,  5, 10, 15, 20, 25, 30, 35, 40, 45, 50, 55, 60, 65])"
            ]
          },
          "metadata": {
            "tags": []
          },
          "execution_count": 3
        }
      ]
    },
    {
      "cell_type": "code",
      "metadata": {
        "colab": {
          "base_uri": "https://localhost:8080/"
        },
        "id": "jnVZewFvH-Iq",
        "outputId": "d337b36e-8c50-4044-f02c-03050d609b20"
      },
      "source": [
        "np.linspace(0, 66, 5, retstep=True)"
      ],
      "execution_count": null,
      "outputs": [
        {
          "output_type": "execute_result",
          "data": {
            "text/plain": [
              "(array([ 0. , 16.5, 33. , 49.5, 66. ]), 16.5)"
            ]
          },
          "metadata": {
            "tags": []
          },
          "execution_count": 6
        }
      ]
    },
    {
      "cell_type": "code",
      "metadata": {
        "colab": {
          "base_uri": "https://localhost:8080/"
        },
        "id": "j7a18xPRITjg",
        "outputId": "5943a918-9069-48a9-c69e-042b4214ef22"
      },
      "source": [
        "np.zeros((2,3))"
      ],
      "execution_count": null,
      "outputs": [
        {
          "output_type": "execute_result",
          "data": {
            "text/plain": [
              "array([[0., 0., 0.],\n",
              "       [0., 0., 0.]])"
            ]
          },
          "metadata": {
            "tags": []
          },
          "execution_count": 7
        }
      ]
    },
    {
      "cell_type": "code",
      "metadata": {
        "colab": {
          "base_uri": "https://localhost:8080/"
        },
        "id": "RkmnicOAI6Em",
        "outputId": "821c9bfe-2c54-4367-ea7e-17a2825dc0ca"
      },
      "source": [
        "np.zeros(6).reshape(2,3)"
      ],
      "execution_count": null,
      "outputs": [
        {
          "output_type": "execute_result",
          "data": {
            "text/plain": [
              "array([[0., 0., 0.],\n",
              "       [0., 0., 0.]])"
            ]
          },
          "metadata": {
            "tags": []
          },
          "execution_count": 13
        }
      ]
    },
    {
      "cell_type": "code",
      "metadata": {
        "colab": {
          "base_uri": "https://localhost:8080/"
        },
        "id": "mkgooaa_IjXU",
        "outputId": "1c754d27-0642-4f52-9aef-499a55f8e1ca"
      },
      "source": [
        "np.ones((2,3))"
      ],
      "execution_count": null,
      "outputs": [
        {
          "output_type": "execute_result",
          "data": {
            "text/plain": [
              "array([[1., 1., 1.],\n",
              "       [1., 1., 1.]])"
            ]
          },
          "metadata": {
            "tags": []
          },
          "execution_count": 8
        }
      ]
    },
    {
      "cell_type": "code",
      "metadata": {
        "colab": {
          "base_uri": "https://localhost:8080/"
        },
        "id": "t8zkZEIjIqcK",
        "outputId": "f0f1208b-8548-4fae-bc9a-fba8e3068649"
      },
      "source": [
        "np.ones((2,3),dtype='int64')"
      ],
      "execution_count": null,
      "outputs": [
        {
          "output_type": "execute_result",
          "data": {
            "text/plain": [
              "array([[1, 1, 1],\n",
              "       [1, 1, 1]])"
            ]
          },
          "metadata": {
            "tags": []
          },
          "execution_count": 10
        }
      ]
    },
    {
      "cell_type": "code",
      "metadata": {
        "colab": {
          "base_uri": "https://localhost:8080/"
        },
        "id": "JDjqJq5tLr9y",
        "outputId": "f3671072-55b3-422e-d118-1d8bf5497ec6"
      },
      "source": [
        "my_vector[0] "
      ],
      "execution_count": null,
      "outputs": [
        {
          "output_type": "execute_result",
          "data": {
            "text/plain": [
              "16"
            ]
          },
          "metadata": {
            "tags": []
          },
          "execution_count": 20
        }
      ]
    },
    {
      "cell_type": "code",
      "metadata": {
        "colab": {
          "base_uri": "https://localhost:8080/"
        },
        "id": "q0KLJsr0MZad",
        "outputId": "e7a7bb7b-cbb6-4a0e-de1d-9e1eb60df5be"
      },
      "source": [
        "my_3D_array = np.arange(60)\n",
        "my_3D_array.shape = (4, 5, 3)\n",
        "my_3D_array\n"
      ],
      "execution_count": null,
      "outputs": [
        {
          "output_type": "execute_result",
          "data": {
            "text/plain": [
              "array([[[ 0,  1,  2],\n",
              "        [ 3,  4,  5],\n",
              "        [ 6,  7,  8],\n",
              "        [ 9, 10, 11],\n",
              "        [12, 13, 14]],\n",
              "\n",
              "       [[15, 16, 17],\n",
              "        [18, 19, 20],\n",
              "        [21, 22, 23],\n",
              "        [24, 25, 26],\n",
              "        [27, 28, 29]],\n",
              "\n",
              "       [[30, 31, 32],\n",
              "        [33, 34, 35],\n",
              "        [36, 37, 38],\n",
              "        [39, 40, 41],\n",
              "        [42, 43, 44]],\n",
              "\n",
              "       [[45, 46, 47],\n",
              "        [48, 49, 50],\n",
              "        [51, 52, 53],\n",
              "        [54, 55, 56],\n",
              "        [57, 58, 59]]])"
            ]
          },
          "metadata": {
            "tags": []
          },
          "execution_count": 21
        }
      ]
    },
    {
      "cell_type": "code",
      "metadata": {
        "colab": {
          "base_uri": "https://localhost:8080/"
        },
        "id": "hCcrx-H7MgSs",
        "outputId": "e13f6963-b93b-42e4-f5ab-2cde072c9bbc"
      },
      "source": [
        "my_3D_array[1,3,2] = 999\n",
        "my_3D_array"
      ],
      "execution_count": null,
      "outputs": [
        {
          "output_type": "execute_result",
          "data": {
            "text/plain": [
              "array([[[  0,   1,   2],\n",
              "        [  3,   4,   5],\n",
              "        [  6,   7,   8],\n",
              "        [  9,  10,  11],\n",
              "        [ 12,  13,  14]],\n",
              "\n",
              "       [[ 15,  16,  17],\n",
              "        [ 18,  19,  20],\n",
              "        [ 21,  22,  23],\n",
              "        [ 24,  25, 999],\n",
              "        [ 27,  28,  29]],\n",
              "\n",
              "       [[ 30,  31,  32],\n",
              "        [ 33,  34,  35],\n",
              "        [ 36,  37,  38],\n",
              "        [ 39,  40,  41],\n",
              "        [ 42,  43,  44]],\n",
              "\n",
              "       [[ 45,  46,  47],\n",
              "        [ 48,  49,  50],\n",
              "        [ 51,  52,  53],\n",
              "        [ 54,  55,  56],\n",
              "        [ 57,  58,  59]]])"
            ]
          },
          "metadata": {
            "tags": []
          },
          "execution_count": 23
        }
      ]
    },
    {
      "cell_type": "code",
      "metadata": {
        "colab": {
          "base_uri": "https://localhost:8080/"
        },
        "id": "bDCw1Z-WPLOG",
        "outputId": "c8b0dc67-e06b-4443-fc91-857024c9fb03"
      },
      "source": [
        "my_3D_array.ndim"
      ],
      "execution_count": null,
      "outputs": [
        {
          "output_type": "execute_result",
          "data": {
            "text/plain": [
              "3"
            ]
          },
          "metadata": {
            "tags": []
          },
          "execution_count": 30
        }
      ]
    },
    {
      "cell_type": "code",
      "metadata": {
        "colab": {
          "base_uri": "https://localhost:8080/"
        },
        "id": "ar-twSXFQjRY",
        "outputId": "fd6abe90-dc54-497f-a7ba-9cae0225f46b"
      },
      "source": [
        "my_3D_array = np.arange(60).reshape(2,5,6)\n",
        "my_3D_array"
      ],
      "execution_count": null,
      "outputs": [
        {
          "output_type": "execute_result",
          "data": {
            "text/plain": [
              "array([[[ 0,  1,  2,  3,  4,  5],\n",
              "        [ 6,  7,  8,  9, 10, 11],\n",
              "        [12, 13, 14, 15, 16, 17],\n",
              "        [18, 19, 20, 21, 22, 23],\n",
              "        [24, 25, 26, 27, 28, 29]],\n",
              "\n",
              "       [[30, 31, 32, 33, 34, 35],\n",
              "        [36, 37, 38, 39, 40, 41],\n",
              "        [42, 43, 44, 45, 46, 47],\n",
              "        [48, 49, 50, 51, 52, 53],\n",
              "        [54, 55, 56, 57, 58, 59]]])"
            ]
          },
          "metadata": {
            "tags": []
          },
          "execution_count": 39
        }
      ]
    },
    {
      "cell_type": "code",
      "metadata": {
        "colab": {
          "base_uri": "https://localhost:8080/"
        },
        "id": "4AS-tLUGPvur",
        "outputId": "0946db12-e2ce-4d00-a8a3-a212397a1a91"
      },
      "source": [
        "my_3D_array.sum()"
      ],
      "execution_count": null,
      "outputs": [
        {
          "output_type": "execute_result",
          "data": {
            "text/plain": [
              "1770"
            ]
          },
          "metadata": {
            "tags": []
          },
          "execution_count": 40
        }
      ]
    },
    {
      "cell_type": "code",
      "metadata": {
        "colab": {
          "base_uri": "https://localhost:8080/"
        },
        "id": "RedF5-k3P4LW",
        "outputId": "4544a939-4018-40c0-d2f7-6df078be42db"
      },
      "source": [
        "(59 * 60)/2"
      ],
      "execution_count": null,
      "outputs": [
        {
          "output_type": "execute_result",
          "data": {
            "text/plain": [
              "1770.0"
            ]
          },
          "metadata": {
            "tags": []
          },
          "execution_count": 41
        }
      ]
    },
    {
      "cell_type": "code",
      "metadata": {
        "colab": {
          "base_uri": "https://localhost:8080/"
        },
        "id": "BJApNGdfRUJZ",
        "outputId": "c4209d9e-1ad2-4b46-9c32-be3b0427175d"
      },
      "source": [
        "my_2D_array = np.ones(30, dtype='int_').reshape((5,6)) * 3\n",
        "my_2D_array"
      ],
      "execution_count": null,
      "outputs": [
        {
          "output_type": "execute_result",
          "data": {
            "text/plain": [
              "array([[3, 3, 3, 3, 3, 3],\n",
              "       [3, 3, 3, 3, 3, 3],\n",
              "       [3, 3, 3, 3, 3, 3],\n",
              "       [3, 3, 3, 3, 3, 3],\n",
              "       [3, 3, 3, 3, 3, 3]])"
            ]
          },
          "metadata": {
            "tags": []
          },
          "execution_count": 42
        }
      ]
    },
    {
      "cell_type": "code",
      "metadata": {
        "colab": {
          "base_uri": "https://localhost:8080/"
        },
        "id": "GoC3aGtVRZUC",
        "outputId": "13f028e0-1bce-4294-cfcb-f10957850e84"
      },
      "source": [
        "my_random_2D_array = np.random.random((5,6))\n",
        "np.set_printoptions(precision=4)\n",
        "my_2D_array * my_random_2D_array"
      ],
      "execution_count": null,
      "outputs": [
        {
          "output_type": "execute_result",
          "data": {
            "text/plain": [
              "array([[1.5537, 1.4675, 2.9622, 0.8341, 0.9976, 2.6984],\n",
              "       [1.2576, 1.6004, 2.814 , 0.731 , 1.1985, 1.8836],\n",
              "       [0.0036, 1.721 , 1.7756, 0.5604, 0.6678, 2.2688],\n",
              "       [0.2019, 2.7615, 2.052 , 1.3021, 0.6942, 0.6666],\n",
              "       [2.4876, 0.2474, 2.3038, 0.8929, 1.4236, 1.7282]])"
            ]
          },
          "metadata": {
            "tags": []
          },
          "execution_count": 43
        }
      ]
    },
    {
      "cell_type": "code",
      "metadata": {
        "id": "7P4O7WOaPePw"
      },
      "source": [
        "left_mat = np.arange(6).reshape((2,3))\n",
        "right_mat = np.arange(15).reshape((3,5))\n",
        "#np.inner(left_mat, right_mat)"
      ],
      "execution_count": null,
      "outputs": []
    },
    {
      "cell_type": "code",
      "metadata": {
        "colab": {
          "base_uri": "https://localhost:8080/"
        },
        "id": "Y0Dq9IRTPhV-",
        "outputId": "22288010-a9bf-47bf-954f-c6f87d549262"
      },
      "source": [
        "np.dot(left_mat, right_mat)"
      ],
      "execution_count": null,
      "outputs": [
        {
          "output_type": "execute_result",
          "data": {
            "text/plain": [
              "array([[ 25,  28,  31,  34,  37],\n",
              "       [ 70,  82,  94, 106, 118]])"
            ]
          },
          "metadata": {
            "tags": []
          },
          "execution_count": 32
        }
      ]
    },
    {
      "cell_type": "code",
      "metadata": {
        "colab": {
          "base_uri": "https://localhost:8080/"
        },
        "id": "vyqFJ4O_IzWj",
        "outputId": "cd0f8eb4-abd9-428f-8ad0-339a91ee25da"
      },
      "source": [
        "my_vector = np.random.randint(0, 18, 8)\n",
        "my_vector"
      ],
      "execution_count": null,
      "outputs": [
        {
          "output_type": "execute_result",
          "data": {
            "text/plain": [
              "array([16, 15, 17, 11,  4, 15, 17,  4])"
            ]
          },
          "metadata": {
            "tags": []
          },
          "execution_count": 19
        }
      ]
    },
    {
      "cell_type": "code",
      "metadata": {
        "colab": {
          "base_uri": "https://localhost:8080/"
        },
        "id": "KBdEHBpKMw_-",
        "outputId": "1e4168ab-3218-4f63-dc83-7889b5498693"
      },
      "source": [
        "my_vector_mask = 0 == (my_vector % 3)\n",
        "my_vector_mask"
      ],
      "execution_count": null,
      "outputs": [
        {
          "output_type": "execute_result",
          "data": {
            "text/plain": [
              "array([False,  True, False, False, False,  True, False, False])"
            ]
          },
          "metadata": {
            "tags": []
          },
          "execution_count": 24
        }
      ]
    },
    {
      "cell_type": "code",
      "metadata": {
        "colab": {
          "base_uri": "https://localhost:8080/"
        },
        "id": "SUOWU2wINwbL",
        "outputId": "b57d68dc-22c5-440b-d545-d34b165dc7bb"
      },
      "source": [
        "sub_array = my_vector[my_vector_mask]\n",
        "sub_array"
      ],
      "execution_count": null,
      "outputs": [
        {
          "output_type": "execute_result",
          "data": {
            "text/plain": [
              "array([15, 15])"
            ]
          },
          "metadata": {
            "tags": []
          },
          "execution_count": 25
        }
      ]
    },
    {
      "cell_type": "code",
      "metadata": {
        "colab": {
          "base_uri": "https://localhost:8080/"
        },
        "id": "KQNY3y8SN3cs",
        "outputId": "49e675ae-bade-4ab9-8108-eed3417b6f65"
      },
      "source": [
        "sub_array[sub_array!=15]"
      ],
      "execution_count": null,
      "outputs": [
        {
          "output_type": "execute_result",
          "data": {
            "text/plain": [
              "array([], dtype=int64)"
            ]
          },
          "metadata": {
            "tags": []
          },
          "execution_count": 27
        }
      ]
    },
    {
      "cell_type": "code",
      "metadata": {
        "id": "pdIXoYOwN_1a"
      },
      "source": [
        "mod_test = 0 == (my_vector % 3)\n",
        "num_test = my_vector != 15\n",
        "combined_mask = np.logical_and(mod_test, num_test)"
      ],
      "execution_count": null,
      "outputs": []
    },
    {
      "cell_type": "code",
      "metadata": {
        "colab": {
          "base_uri": "https://localhost:8080/"
        },
        "id": "7yya-W9OOUm4",
        "outputId": "70c345f0-3966-4316-aadc-a8a2b5c13f6f"
      },
      "source": [
        "my_vector[combined_mask]"
      ],
      "execution_count": null,
      "outputs": [
        {
          "output_type": "execute_result",
          "data": {
            "text/plain": [
              "array([], dtype=int64)"
            ]
          },
          "metadata": {
            "tags": []
          },
          "execution_count": 29
        }
      ]
    },
    {
      "cell_type": "markdown",
      "metadata": {
        "id": "1aViVokBThhS"
      },
      "source": [
        "# Matplotlib"
      ]
    },
    {
      "cell_type": "code",
      "metadata": {
        "colab": {
          "base_uri": "https://localhost:8080/",
          "height": 295
        },
        "id": "Ajy1Ts9SObmt",
        "outputId": "9536063e-4494-4046-a96b-854f42bf41ca"
      },
      "source": [
        "%matplotlib inline\n",
        "import numpy as np\n",
        "import matplotlib.pyplot as plt\n",
        "\n",
        "mu, sigma = 100, 15\n",
        "data_set = mu + sigma * np.random.randn(10000)\n",
        "\n",
        "# the histogram of the data\n",
        "n, bins, patches = plt.hist(data_set, 50, density = True, facecolor='g', alpha=0.75)\n",
        "\n",
        "plt.xlabel('Smarts')\n",
        "plt.ylabel('Probability')\n",
        "plt.title('Histogram of IQ')\n",
        "plt.text(60, .025, r'$\\mu=100,\\ \\sigma=15$')\n",
        "plt.axis([40, 160, 0, 0.03])\n",
        "plt.grid(True)\n",
        "plt.show()"
      ],
      "execution_count": null,
      "outputs": [
        {
          "output_type": "display_data",
          "data": {
            "image/png": "[encoded data removed]",
            "text/plain": [
              "<Figure size 432x288 with 1 Axes>"
            ]
          },
          "metadata": {
            "tags": [],
            "needs_background": "light"
          }
        }
      ]
    },
    {
      "cell_type": "markdown",
      "metadata": {
        "id": "gxbTz38GT8xj"
      },
      "source": [
        "<h3>Available Colors:</h3>\n",
        "<pre>\n",
        "<code>\n",
        "code       color\n",
        "________________________\n",
        "&#39;k&#39;         black\n",
        "&#39;b&#39;         blue\n",
        "&#39;c&#39;         cyan\n",
        "&#39;g&#39;         green\n",
        "&#39;m&#39;         magenta\n",
        "&#39;r&#39;         red\n",
        "&#39;w&#39;         white\n",
        "&#39;y&#39;         yellow\n",
        "</code>\n",
        "</pre>"
      ]
    },
    {
      "cell_type": "markdown",
      "metadata": {
        "id": "sUVMY5fzT_M_"
      },
      "source": [
        "<p>Available Markers:</p>\n",
        "<table border=\"1\" class=\"docutils\">\n",
        "<colgroup>\n",
        "<col width=\"38%\" />\n",
        "<col width=\"62%\" />\n",
        "</colgroup>\n",
        "<thead valign=\"bottom\">\n",
        "<tr class=\"row-odd\"><th class=\"head\">marker</th>\n",
        "<th class=\"head\">description</th>\n",
        "</tr>\n",
        "</thead>\n",
        "<tbody valign=\"top\">\n",
        "<tr class=\"row-even\"><td>&#8221;.&#8221;</td>\n",
        "<td>point</td>\n",
        "</tr>\n",
        "<tr class=\"row-odd\"><td>&#8221;,&#8221;</td>\n",
        "<td>pixel</td>\n",
        "</tr>\n",
        "<tr class=\"row-even\"><td>&#8220;o&#8221;</td>\n",
        "<td>circle</td>\n",
        "</tr>\n",
        "<tr class=\"row-odd\"><td>&#8220;v&#8221;</td>\n",
        "<td>triangle_down</td>\n",
        "</tr>\n",
        "<tr class=\"row-even\"><td>&#8220;^&#8221;</td>\n",
        "<td>triangle_up</td>\n",
        "</tr>\n",
        "<tr class=\"row-odd\"><td>&#8220;&lt;&#8221;</td>\n",
        "<td>triangle_left</td>\n",
        "</tr>\n",
        "<tr class=\"row-even\"><td>&#8220;&gt;&#8221;</td>\n",
        "<td>triangle_right</td>\n",
        "</tr>\n",
        "<tr class=\"row-odd\"><td>&#8220;1&#8221;</td>\n",
        "<td>tri_down</td>\n",
        "</tr>\n",
        "<tr class=\"row-even\"><td>&#8220;2&#8221;</td>\n",
        "<td>tri_up</td>\n",
        "</tr>\n",
        "<tr class=\"row-odd\"><td>&#8220;3&#8221;</td>\n",
        "<td>tri_left</td>\n",
        "</tr>\n",
        "<tr class=\"row-even\"><td>&#8220;4&#8221;</td>\n",
        "<td>tri_right</td>\n",
        "</tr>\n",
        "<tr class=\"row-odd\"><td>&#8220;8&#8221;</td>\n",
        "<td>octagon</td>\n",
        "</tr>\n",
        "<tr class=\"row-even\"><td>&#8220;s&#8221;</td>\n",
        "<td>square</td>\n",
        "</tr>\n",
        "<tr class=\"row-odd\"><td>&#8220;p&#8221;</td>\n",
        "<td>pentagon</td>\n",
        "</tr>\n",
        "<tr class=\"row-even\"><td>&#8220;*&#8221;</td>\n",
        "<td>star</td>\n",
        "</tr>\n",
        "<tr class=\"row-odd\"><td>&#8220;h&#8221;</td>\n",
        "<td>hexagon1</td>\n",
        "</tr>\n",
        "<tr class=\"row-even\"><td>&#8220;H&#8221;</td>\n",
        "<td>hexagon2</td>\n",
        "</tr>\n",
        "<tr class=\"row-odd\"><td>&#8220;+&#8221;</td>\n",
        "<td>plus</td>\n",
        "</tr>\n",
        "<tr class=\"row-even\"><td>&#8220;x&#8221;</td>\n",
        "<td>x</td>\n",
        "</tr>\n",
        "<tr class=\"row-odd\"><td>&#8220;D&#8221;</td>\n",
        "<td>diamond</td>\n",
        "</tr>\n",
        "<tr class=\"row-even\"><td>&#8220;d&#8221;</td>\n",
        "<td>thin_diamond</td>\n",
        "</tr>\n",
        "<tr class=\"row-odd\"><td>&#8220;|&#8221;</td>\n",
        "<td>vline</td>\n",
        "</tr>\n",
        "<tr class=\"row-even\"><td>&#8220;_&#8221;</td>\n",
        "<td>hline</td>\n",
        "</tr>\n",
        "<tr class=\"row-odd\"><td>TICKLEFT</td>\n",
        "<td>tickleft</td>\n",
        "</tr>\n",
        "<tr class=\"row-even\"><td>TICKRIGHT</td>\n",
        "<td>tickright</td>\n",
        "</tr>\n",
        "<tr class=\"row-odd\"><td>TICKUP</td>\n",
        "<td>tickup</td>\n",
        "</tr>\n",
        "<tr class=\"row-even\"><td>TICKDOWN</td>\n",
        "<td>tickdown</td>\n",
        "</tr>\n",
        "<tr class=\"row-odd\"><td>CARETLEFT</td>\n",
        "<td>caretleft</td>\n",
        "</tr>\n",
        "<tr class=\"row-even\"><td>CARETRIGHT</td>\n",
        "<td>caretright</td>\n",
        "</tr>\n",
        "<tr class=\"row-odd\"><td>CARETUP</td>\n",
        "<td>caretup</td>\n",
        "</tr>\n",
        "<tr class=\"row-even\"><td>CARETDOWN</td>\n",
        "<td>caretdown</td>\n",
        "</tr>\n",
        "<tr class=\"row-odd\"><td>&#8220;None&#8221;</td>\n",
        "<td>nothing</td>\n",
        "</tr>\n",
        "<tr class=\"row-even\"><td>None</td>\n",
        "<td>nothing</td>\n",
        "</tr>\n",
        "<tr class=\"row-odd\"><td>&#8221; &#8220;</td>\n",
        "<td>nothing</td>\n",
        "</tr>\n",
        "<tr class=\"row-even\"><td>&#8220;&#8221;</td>\n",
        "<td>nothing</td>\n",
        "</tr>\n",
        "<tr class=\"row-odd\"><td><code class=\"docutils literal\"><span class=\"pre\">'$...$'</span></code></td>\n",
        "<td>render the string using mathtext.</td>\n",
        "</tr>\n",
        "<tr class=\"row-even\"><td><code class=\"xref py py-obj docutils literal\"><span class=\"pre\">verts</span></code></td>\n",
        "<td>a list of (x, y) pairs used for Path vertices.\n",
        "The center of the marker is located at (0,0) and\n",
        "the size is normalized.</td>\n",
        "</tr>\n",
        "<tr class=\"row-odd\"><td>path</td>\n",
        "<td>a <a class=\"reference internal\" href=\"path_api.html#matplotlib.path.Path\" title=\"matplotlib.path.Path\"><code class=\"xref py py-obj docutils literal\"><span class=\"pre\">Path</span></code></a> instance.</td>\n",
        "</tr>\n",
        "<tr class=\"row-even\"><td>(<code class=\"xref py py-obj docutils literal\"><span class=\"pre\">numsides</span></code>, <code class=\"xref py py-obj docutils literal\"><span class=\"pre\">style</span></code>, <code class=\"xref py py-obj docutils literal\"><span class=\"pre\">angle</span></code>)</td>\n",
        "<td>see below</td>\n",
        "</tr>\n",
        "</tbody>\n",
        "</table>"
      ]
    },
    {
      "cell_type": "code",
      "metadata": {
        "colab": {
          "base_uri": "https://localhost:8080/",
          "height": 269
        },
        "id": "M8041F53Uenb",
        "outputId": "193926e8-cfa5-48a2-95e1-3686d9dbb406"
      },
      "source": [
        "my_first_figure = plt.figure(\"My First Figure\")\n",
        "subplot_1 = my_first_figure.add_subplot(2, 3, 1)\n",
        "subplot_6 = my_first_figure.add_subplot(2, 3, 6)\n",
        "plt.plot(np.random.rand(50).cumsum(), 'k--')\n",
        "plt.show()"
      ],
      "execution_count": null,
      "outputs": [
        {
          "output_type": "display_data",
          "data": {
            "image/png": "[encoded data removed]",
            "text/plain": [
              "<Figure size 432x288 with 2 Axes>"
            ]
          },
          "metadata": {
            "tags": [],
            "needs_background": "light"
          }
        }
      ]
    },
    {
      "cell_type": "code",
      "metadata": {
        "colab": {
          "base_uri": "https://localhost:8080/",
          "height": 282
        },
        "id": "Gwdo7bGuU5HQ",
        "outputId": "9090d930-5666-481a-caae-208242a38df5"
      },
      "source": [
        "subplot_2 = my_first_figure.add_subplot(2, 3, 2)\n",
        "plt.plot(np.random.rand(50), 'go')"
      ],
      "execution_count": null,
      "outputs": [
        {
          "output_type": "execute_result",
          "data": {
            "text/plain": [
              "[<matplotlib.lines.Line2D at 0x7ff262b17518>]"
            ]
          },
          "metadata": {
            "tags": []
          },
          "execution_count": 50
        },
        {
          "output_type": "display_data",
          "data": {
            "image/png": "[encoded data removed]",
            "text/plain": [
              "<Figure size 432x288 with 1 Axes>"
            ]
          },
          "metadata": {
            "tags": [],
            "needs_background": "light"
          }
        }
      ]
    },
    {
      "cell_type": "code",
      "metadata": {
        "id": "9b9mHR66U7QR"
      },
      "source": [
        "### plot example  http://matplotlib.org/examples/pylab_examples/legend_demo2.html"
      ],
      "execution_count": null,
      "outputs": []
    },
    {
      "cell_type": "code",
      "metadata": {
        "colab": {
          "base_uri": "https://localhost:8080/",
          "height": 295
        },
        "id": "6LdlwgFRVXQl",
        "outputId": "a8875c07-7702-4311-caae-d3b96f5751a0"
      },
      "source": [
        "t1 = np.arange(0.0, 2.0, 0.1)\n",
        "t2 = np.arange(0.0, 2.0, 0.01)\n",
        "\n",
        "# note that plot returns a list of lines.  The \"l1, = plot\" usage\n",
        "# extracts the first element of the list into l1 using tuple\n",
        "# unpacking.  So l1 is a Line2D instance, not a sequence of lines\n",
        "l1, = plt.plot(t2, np.exp(-t2))\n",
        "l2, l3 = plt.plot(t2, np.sin(2 * np.pi * t2), '--go', t1, np.log(1 + t1), '.')\n",
        "l4, = plt.plot(t2, np.exp(-t2) * np.sin(2 * np.pi * t2), 'rs-.')\n",
        "\n",
        "plt.legend((l2, l4), ('oscillatory', 'damped'), loc='upper right', shadow=True)\n",
        "plt.xlabel('time')\n",
        "plt.ylabel('volts')\n",
        "plt.title('Damped oscillation')\n",
        "plt.show()"
      ],
      "execution_count": null,
      "outputs": [
        {
          "output_type": "display_data",
          "data": {
            "image/png": "[encoded data removed]",
            "text/plain": [
              "<Figure size 432x288 with 1 Axes>"
            ]
          },
          "metadata": {
            "tags": [],
            "needs_background": "light"
          }
        }
      ]
    },
    {
      "cell_type": "code",
      "metadata": {
        "colab": {
          "base_uri": "https://localhost:8080/",
          "height": 295
        },
        "id": "GR9YGvCgWVzU",
        "outputId": "34386f27-0c62-45fd-c5b4-4bc03e0cf4bf"
      },
      "source": [
        "data_set_size = 15\n",
        "low_mu, low_sigma = 50, 4.3\n",
        "low_data_set = low_mu + low_sigma * np.random.randn(data_set_size)\n",
        "high_mu, high_sigma = 57, 5.2\n",
        "high_data_set = high_mu + high_sigma * np.random.randn(data_set_size)\n",
        "\n",
        "days = list(range(1, data_set_size + 1))\n",
        "\n",
        "plt.plot(days, low_data_set,\n",
        "         days, low_data_set, \"vm\",\n",
        "         days, high_data_set, \n",
        "         days, high_data_set, \"^k\")\n",
        "plt.xlabel('Day')\n",
        "plt.ylabel('Temperature: degrees Farenheit')\n",
        "plt.title('Randomized temperature data')\n",
        "plt.show()"
      ],
      "execution_count": null,
      "outputs": [
        {
          "output_type": "display_data",
          "data": {
            "image/png": "[encoded data removed]",
            "text/plain": [
              "<Figure size 432x288 with 1 Axes>"
            ]
          },
          "metadata": {
            "tags": [],
            "needs_background": "light"
          }
        }
      ]
    },
    {
      "cell_type": "code",
      "metadata": {
        "colab": {
          "base_uri": "https://localhost:8080/",
          "height": 308
        },
        "id": "xcl9xIWUW-Rj",
        "outputId": "3b2667c1-f111-4c35-c948-fb10a0d065e3"
      },
      "source": [
        "number_of_data_points = 1000\n",
        "\n",
        "my_figure = plt.figure()\n",
        "subplot_1 = my_figure.add_subplot(1, 1, 1)\n",
        "subplot_1.plot(np.random.rand(number_of_data_points).cumsum())\n",
        "\n",
        "number_of_ticks = 5\n",
        "ticks = np.arange(0, number_of_data_points, number_of_data_points//number_of_ticks)\n",
        "subplot_1.set_xticks(ticks)\n",
        "\n",
        "labels = subplot_1.set_xticklabels(['one', 'two', 'three', 'four', 'five'], rotation=45, fontsize='small')\n",
        "\n",
        "subplot_1.set_title (\"My First Ticked Plot\")\n",
        "subplot_1.set_xlabel (\"Groups\")\n",
        "\n",
        "subplot_1.grid(True)\n",
        "gridlines = subplot_1.get_xgridlines() + subplot_1.get_ygridlines()\n",
        "for line in gridlines:\n",
        "    line.set_linestyle(':')\n",
        "plt.show()"
      ],
      "execution_count": null,
      "outputs": [
        {
          "output_type": "display_data",
          "data": {
            "image/png": "[encoded data removed]",
            "text/plain": [
              "<Figure size 432x288 with 1 Axes>"
            ]
          },
          "metadata": {
            "tags": [],
            "needs_background": "light"
          }
        }
      ]
    },
    {
      "cell_type": "code",
      "metadata": {
        "id": "Hqs9okGSXJAt"
      },
      "source": [
        "### More line http://matplotlib.org/api/lines_api.html"
      ],
      "execution_count": null,
      "outputs": []
    },
    {
      "cell_type": "code",
      "metadata": {
        "colab": {
          "base_uri": "https://localhost:8080/",
          "height": 265
        },
        "id": "BHgbwuOiXVnf",
        "outputId": "b56aa3a2-bc48-4b25-8b1b-02f0f880697e"
      },
      "source": [
        "number_of_data_points = 10\n",
        "\n",
        "my_figure = plt.figure()\n",
        "subplot_1 = my_figure.add_subplot(1, 1, 1)\n",
        "subplot_1.plot(np.random.rand(number_of_data_points).cumsum())\n",
        "\n",
        "subplot_1.text (1, 0.5, r'an equation: $E=mc^2$', fontsize=18, color='red')\n",
        "subplot_1.text (1, 1.5, \"Hello, Mountain Climbing!\", family='monospace', fontsize=14, color='green')\n",
        "\n",
        "# see: http://matplotlib.org/users/transforms_tutorial.html\n",
        "# transform=subplot_1.transAxes; entire axis between zero and one\n",
        "subplot_1.text(0.5, 0.5, \"We are centered, now\", transform=subplot_1.transAxes)\n",
        "\n",
        "subplot_1.annotate('shoot arrow', xy=(2, 1), xytext=(3, 4),\n",
        "            arrowprops=dict(facecolor='red', shrink=0.05))\n",
        "\n",
        "plt.show()"
      ],
      "execution_count": null,
      "outputs": [
        {
          "output_type": "display_data",
          "data": {
            "image/png": "[encoded data removed]",
            "text/plain": [
              "<Figure size 432x288 with 1 Axes>"
            ]
          },
          "metadata": {
            "tags": [],
            "needs_background": "light"
          }
        }
      ]
    },
    {
      "cell_type": "code",
      "metadata": {
        "colab": {
          "base_uri": "https://localhost:8080/",
          "height": 269
        },
        "id": "eoGPOL_HXj-r",
        "outputId": "71657179-6a1f-4fe8-e043-99d2a4238745"
      },
      "source": [
        "\n",
        "x = np.arange(0, 10, 0.005)\n",
        "y = np.exp(-x/2.) * np.sin(2*np.pi*x)\n",
        "\n",
        "fig = plt.figure()\n",
        "ax = fig.add_subplot(111)\n",
        "ax.plot(x, y)\n",
        "ax.set_xlim(0, 10)\n",
        "ax.set_ylim(-1, 1)\n",
        "\n",
        "xdata, ydata = 5, 0\n",
        "xdisplay, ydisplay = ax.transData.transform_point((xdata, ydata))\n",
        "\n",
        "bbox = dict(boxstyle=\"round\", fc=\"0.8\")\n",
        "arrowprops = dict(\n",
        "    arrowstyle = \"->\",\n",
        "    connectionstyle = \"angle,angleA=0,angleB=90,rad=10\")\n",
        "\n",
        "offset = 72\n",
        "ax.annotate('data = (%.1f, %.1f)'%(xdata, ydata),\n",
        "            (xdata, ydata), xytext=(-2*offset, offset), textcoords='offset points',\n",
        "            bbox=bbox, arrowprops=arrowprops)\n",
        "\n",
        "\n",
        "disp = ax.annotate('display = (%.1f, %.1f)'%(xdisplay, ydisplay),\n",
        "            (xdisplay, ydisplay), xytext=(0.5*offset, -offset),\n",
        "            xycoords='figure pixels',\n",
        "            textcoords='offset points',\n",
        "            bbox=bbox, arrowprops=arrowprops)\n",
        "\n",
        "\n",
        "plt.show()\n"
      ],
      "execution_count": null,
      "outputs": [
        {
          "output_type": "display_data",
          "data": {
            "image/png": "[encoded data removed]",
            "text/plain": [
              "<Figure size 432x288 with 1 Axes>"
            ]
          },
          "metadata": {
            "tags": [],
            "needs_background": "light"
          }
        }
      ]
    },
    {
      "cell_type": "code",
      "metadata": {
        "colab": {
          "base_uri": "https://localhost:8080/",
          "height": 269
        },
        "id": "kVZJUfiaXnrN",
        "outputId": "0a607b50-f423-4205-9d32-13eaf9a883d3"
      },
      "source": [
        "fig = plt.figure()\n",
        "for i, label in enumerate(('A', 'B', 'C', 'D')):\n",
        "    ax = fig.add_subplot(2,2,i+1)\n",
        "    ax.text(0.05, 0.95, label, transform=ax.transAxes,\n",
        "      fontsize=16, fontweight='bold', va='top')\n",
        "\n",
        "plt.show()"
      ],
      "execution_count": null,
      "outputs": [
        {
          "output_type": "display_data",
          "data": {
            "image/png": "[encoded data removed]",
            "text/plain": [
              "<Figure size 432x288 with 4 Axes>"
            ]
          },
          "metadata": {
            "tags": [],
            "needs_background": "light"
          }
        }
      ]
    },
    {
      "cell_type": "code",
      "metadata": {
        "colab": {
          "base_uri": "https://localhost:8080/",
          "height": 248
        },
        "id": "t697jue7X2XU",
        "outputId": "f5386ff0-df85-48a0-dd69-af1add246bba"
      },
      "source": [
        "# The slices will be ordered and plotted counter-clockwise.\n",
        "labels = 'Frogs', 'Hogs', 'Dogs', 'Logs'\n",
        "sizes = [15, 30, 45, 10]\n",
        "colors = ['yellowgreen', 'gold', 'lightskyblue', 'lightcoral']\n",
        "explode = (0, 0.1, 0, 0)  # only \"explode\" the 2nd slice (i.e. 'Hogs')\n",
        "\n",
        "plt.pie(x=sizes, explode=explode, labels=labels, colors=colors,\n",
        "        autopct='%1.1f%%', shadow=True, startangle=90)\n",
        "# Set aspect ratio to be equal so that pie is drawn as a circle.\n",
        "plt.axis('equal')\n",
        "\n",
        "plt.show()"
      ],
      "execution_count": null,
      "outputs": [
        {
          "output_type": "display_data",
          "data": {
            "image/png": "[encoded data removed]",
            "text/plain": [
              "<Figure size 432x288 with 1 Axes>"
            ]
          },
          "metadata": {
            "tags": []
          }
        }
      ]
    },
    {
      "cell_type": "code",
      "metadata": {
        "id": "brah3HvmYLH2"
      },
      "source": [
        "#### function API http://matplotlib.org/api/pyplot_api.html"
      ],
      "execution_count": null,
      "outputs": []
    },
    {
      "cell_type": "code",
      "metadata": {
        "colab": {
          "base_uri": "https://localhost:8080/",
          "height": 281
        },
        "id": "FqXkX035YPOQ",
        "outputId": "21f0b2c0-f028-4d47-81e0-625f315da5b1"
      },
      "source": [
        "N = 5\n",
        "menMeans = (20, 35, 30, 35, 27)\n",
        "menStd = (2, 3, 4, 1, 2)\n",
        "\n",
        "ind = np.arange(N)  # the x locations for the groups\n",
        "width = 0.35       # the width of the bars\n",
        "\n",
        "fig, ax = plt.subplots()\n",
        "rects1 = ax.bar(ind, menMeans, width, color='r', yerr=menStd)\n",
        "\n",
        "womenMeans = (25, 32, 34, 20, 25)\n",
        "womenStd = (3, 5, 2, 3, 3)\n",
        "rects2 = ax.bar(ind + width, womenMeans, width, color='y', yerr=womenStd)\n",
        "\n",
        "\n",
        "# add some text for labels, title and axes ticks\n",
        "ax.set_ylabel('Scores')\n",
        "ax.set_title('Scores by group and gender')\n",
        "\n",
        "ax.set_xticks(ind + width)\n",
        "ax.set_xticklabels(('G1', 'G2', 'G3', 'G4', 'G5'))\n",
        "\n",
        "ax.legend((rects1[0], rects2[0]), ('Men', 'Women'))\n",
        "\n",
        "\n",
        "plt.show()"
      ],
      "execution_count": null,
      "outputs": [
        {
          "output_type": "display_data",
          "data": {
            "image/png": "[encoded data removed]",
            "text/plain": [
              "<Figure size 432x288 with 1 Axes>"
            ]
          },
          "metadata": {
            "tags": [],
            "needs_background": "light"
          }
        }
      ]
    },
    {
      "cell_type": "code",
      "metadata": {
        "colab": {
          "base_uri": "https://localhost:8080/",
          "height": 319
        },
        "id": "YyTyFfljYdvO",
        "outputId": "e1d7866c-4e33-4bf6-cf0f-2e624dcbd440"
      },
      "source": [
        "from matplotlib import colors\n",
        "\n",
        "\"\"\"\n",
        "Visualization of named colors.\n",
        "\n",
        "Simple plot example with the named colors and its visual representation.\n",
        "\"\"\"\n",
        "import six\n",
        "\n",
        "colors_ = list(six.iteritems(colors.cnames))\n",
        "\n",
        "# Add the single letter colors.\n",
        "for name, rgb in six.iteritems(colors.ColorConverter.colors):\n",
        "    hex_ = colors.rgb2hex(rgb)\n",
        "    colors_.append((name, hex_))\n",
        "\n",
        "# Transform to hex color values.\n",
        "hex_ = [color[1] for color in colors_]\n",
        "# Get the rgb equivalent.\n",
        "rgb = [colors.hex2color(color) for color in hex_]\n",
        "# Get the hsv equivalent.\n",
        "hsv = [colors.rgb_to_hsv(color) for color in rgb]\n",
        "\n",
        "# Split the hsv values to sort.\n",
        "hue = [color[0] for color in hsv]\n",
        "sat = [color[1] for color in hsv]\n",
        "val = [color[2] for color in hsv]\n",
        "\n",
        "# Sort by hue, saturation and value.\n",
        "ind = np.lexsort((val, sat, hue))\n",
        "sorted_colors = [colors_[i] for i in ind]\n",
        "\n",
        "n = len(sorted_colors)\n",
        "ncols = 4\n",
        "nrows = int(np.ceil(1. * n / ncols))\n",
        "\n",
        "fig, ax = plt.subplots()\n",
        "\n",
        "X, Y = fig.get_dpi() * fig.get_size_inches()\n",
        "\n",
        "# row height\n",
        "h = Y / (nrows + 1)\n",
        "# col width\n",
        "w = X / ncols\n",
        "\n",
        "for i, (name, color) in enumerate(sorted_colors):\n",
        "    col = i % ncols\n",
        "    row = int(i / ncols)\n",
        "    y = Y - (row * h) - h\n",
        "\n",
        "    xi_line = w * (col + 0.05)\n",
        "    xf_line = w * (col + 0.25)\n",
        "    xi_text = w * (col + 0.3)\n",
        "\n",
        "    ax.text(xi_text, y, name, fontsize=(h * 0.8),\n",
        "            horizontalalignment='left',\n",
        "            verticalalignment='center')\n",
        "\n",
        "    # Add extra black line a little bit thicker to make\n",
        "    # clear colors more visible.\n",
        "    ax.hlines(y, xi_line, xf_line, color='black', linewidth=(h * 0.7))\n",
        "    ax.hlines(y + h * 0.1, xi_line, xf_line, color=color, linewidth=(h * 0.6))\n",
        "\n",
        "ax.set_xlim(0, X)\n",
        "ax.set_ylim(0, Y)\n",
        "ax.set_axis_off()\n",
        "\n",
        "fig.subplots_adjust(left=0, right=1,\n",
        "                    top=1, bottom=0,\n",
        "                    hspace=0, wspace=0)\n",
        "plt.show()"
      ],
      "execution_count": null,
      "outputs": [
        {
          "output_type": "display_data",
          "data": {
            "image/png": "[encoded data removed]",
            "text/plain": [
              "<Figure size 432x288 with 1 Axes>"
            ]
          },
          "metadata": {
            "tags": [],
            "needs_background": "light"
          }
        }
      ]
    },
    {
      "cell_type": "code",
      "metadata": {
        "colab": {
          "base_uri": "https://localhost:8080/",
          "height": 350
        },
        "id": "oPsx2ZS3Ypu5",
        "outputId": "4778f314-c9a9-41eb-95ac-571682d08eb1"
      },
      "source": [
        "# Box plot - violin plot comparison\n",
        "#\n",
        "# Note that although violin plots are closely related to Tukey's (1977) box plots,\n",
        "# they add useful information such as the distribution of the sample data (density trace).\n",
        "#\n",
        "# By default, box plots show data points outside 1.5 x the inter-quartile range as outliers\n",
        "# above or below the whiskers wheras violin plots show the whole range of the data.\n",
        "#\n",
        "# Violin plots require matplotlib >= 1.4.\n",
        "\n",
        "\n",
        "\n",
        "fig, axes = plt.subplots(nrows=1, ncols=2, figsize=(12, 5))\n",
        "\n",
        "# generate some random test data\n",
        "all_data = [np.random.normal(0, std, 100) for std in range(6, 10)]\n",
        "\n",
        "# plot violin plot\n",
        "axes[0].violinplot(all_data,\n",
        "                   showmeans=False,\n",
        "                   showmedians=True)\n",
        "axes[0].set_title('violin plot')\n",
        "\n",
        "# plot box plot\n",
        "axes[1].boxplot(all_data)\n",
        "axes[1].set_title('box plot')\n",
        "\n",
        "# adding horizontal grid lines\n",
        "for ax in axes:\n",
        "    ax.yaxis.grid(True)\n",
        "    ax.set_xticks([y+1 for y in range(len(all_data))])\n",
        "    ax.set_xlabel('xlabel')\n",
        "    ax.set_ylabel('ylabel')\n",
        "\n",
        "# add x-tick labels\n",
        "plt.setp(axes, xticks=[y+1 for y in range(len(all_data))],\n",
        "         xticklabels=['x1', 'x2', 'x3', 'x4'])\n",
        "plt.show()"
      ],
      "execution_count": null,
      "outputs": [
        {
          "output_type": "display_data",
          "data": {
            "image/png": "[encoded data removed]",
            "text/plain": [
              "<Figure size 864x360 with 2 Axes>"
            ]
          },
          "metadata": {
            "tags": [],
            "needs_background": "light"
          }
        }
      ]
    },
    {
      "cell_type": "markdown",
      "metadata": {
        "id": "XI9UJXzaihNp"
      },
      "source": [
        "# This part is deprecated"
      ]
    },
    {
      "cell_type": "code",
      "metadata": {
        "colab": {
          "base_uri": "https://localhost:8080/"
        },
        "id": "c8oc0kWcZLat",
        "outputId": "af929c3b-96d5-4f0e-a2a1-fd53fe954a2c"
      },
      "source": [
        "pip install mplfinance"
      ],
      "execution_count": null,
      "outputs": [
        {
          "output_type": "stream",
          "text": [
            "Collecting mplfinance\n",
            "\u001b[?25l  Downloading https://files.pythonhosted.org/packages/cd/01/3418bb0c9952d4a3c24893e883df8e39065d7a13e7d60ae4f139a9eafc78/mplfinance-0.12.7a0-py3-none-any.whl (55kB)\n",
            "\r\u001b[K     |██████                          | 10kB 16.3MB/s eta 0:00:01\r\u001b[K     |████████████                    | 20kB 9.9MB/s eta 0:00:01\r\u001b[K     |█████████████████▉              | 30kB 7.2MB/s eta 0:00:01\r\u001b[K     |███████████████████████▉        | 40kB 7.0MB/s eta 0:00:01\r\u001b[K     |█████████████████████████████▊  | 51kB 4.4MB/s eta 0:00:01\r\u001b[K     |████████████████████████████████| 61kB 3.2MB/s \n",
            "\u001b[?25hRequirement already satisfied: pandas in /usr/local/lib/python3.6/dist-packages (from mplfinance) (1.1.4)\n",
            "Requirement already satisfied: matplotlib in /usr/local/lib/python3.6/dist-packages (from mplfinance) (3.2.2)\n",
            "Requirement already satisfied: pytz>=2017.2 in /usr/local/lib/python3.6/dist-packages (from pandas->mplfinance) (2018.9)\n",
            "Requirement already satisfied: python-dateutil>=2.7.3 in /usr/local/lib/python3.6/dist-packages (from pandas->mplfinance) (2.8.1)\n",
            "Requirement already satisfied: numpy>=1.15.4 in /usr/local/lib/python3.6/dist-packages (from pandas->mplfinance) (1.18.5)\n",
            "Requirement already satisfied: cycler>=0.10 in /usr/local/lib/python3.6/dist-packages (from matplotlib->mplfinance) (0.10.0)\n",
            "Requirement already satisfied: pyparsing!=2.0.4,!=2.1.2,!=2.1.6,>=2.0.1 in /usr/local/lib/python3.6/dist-packages (from matplotlib->mplfinance) (2.4.7)\n",
            "Requirement already satisfied: kiwisolver>=1.0.1 in /usr/local/lib/python3.6/dist-packages (from matplotlib->mplfinance) (1.3.1)\n",
            "Requirement already satisfied: six>=1.5 in /usr/local/lib/python3.6/dist-packages (from python-dateutil>=2.7.3->pandas->mplfinance) (1.15.0)\n",
            "Installing collected packages: mplfinance\n",
            "Successfully installed mplfinance-0.12.7a0\n"
          ],
          "name": "stdout"
        }
      ]
    },
    {
      "cell_type": "code",
      "metadata": {
        "colab": {
          "base_uri": "https://localhost:8080/"
        },
        "id": "dnlBOiw5ibSb",
        "outputId": "f5fb95e4-7582-4578-b9f7-3ff24426f6f7"
      },
      "source": [
        "!pip install --upgrade seaborn==0.9.0"
      ],
      "execution_count": null,
      "outputs": [
        {
          "output_type": "stream",
          "text": [
            "Collecting seaborn==0.9.0\n",
            "\u001b[?25l  Downloading https://files.pythonhosted.org/packages/a8/76/220ba4420459d9c4c9c9587c6ce607bf56c25b3d3d2de62056efe482dadc/seaborn-0.9.0-py3-none-any.whl (208kB)\n",
            "\r\u001b[K     |█▋                              | 10kB 16.8MB/s eta 0:00:01\r\u001b[K     |███▏                            | 20kB 21.3MB/s eta 0:00:01\r\u001b[K     |████▊                           | 30kB 10.6MB/s eta 0:00:01\r\u001b[K     |██████▎                         | 40kB 8.2MB/s eta 0:00:01\r\u001b[K     |███████▉                        | 51kB 4.4MB/s eta 0:00:01\r\u001b[K     |█████████▌                      | 61kB 5.0MB/s eta 0:00:01\r\u001b[K     |███████████                     | 71kB 5.0MB/s eta 0:00:01\r\u001b[K     |████████████▋                   | 81kB 5.3MB/s eta 0:00:01\r\u001b[K     |██████████████▏                 | 92kB 5.7MB/s eta 0:00:01\r\u001b[K     |███████████████▊                | 102kB 5.9MB/s eta 0:00:01\r\u001b[K     |█████████████████▎              | 112kB 5.9MB/s eta 0:00:01\r\u001b[K     |███████████████████             | 122kB 5.9MB/s eta 0:00:01\r\u001b[K     |████████████████████▌           | 133kB 5.9MB/s eta 0:00:01\r\u001b[K     |██████████████████████          | 143kB 5.9MB/s eta 0:00:01\r\u001b[K     |███████████████████████▋        | 153kB 5.9MB/s eta 0:00:01\r\u001b[K     |█████████████████████████▏      | 163kB 5.9MB/s eta 0:00:01\r\u001b[K     |██████████████████████████▊     | 174kB 5.9MB/s eta 0:00:01\r\u001b[K     |████████████████████████████▍   | 184kB 5.9MB/s eta 0:00:01\r\u001b[K     |██████████████████████████████  | 194kB 5.9MB/s eta 0:00:01\r\u001b[K     |███████████████████████████████▌| 204kB 5.9MB/s eta 0:00:01\r\u001b[K     |████████████████████████████████| 215kB 5.9MB/s \n",
            "\u001b[?25hRequirement already satisfied, skipping upgrade: pandas>=0.15.2 in /usr/local/lib/python3.6/dist-packages (from seaborn==0.9.0) (1.1.4)\n",
            "Requirement already satisfied, skipping upgrade: numpy>=1.9.3 in /usr/local/lib/python3.6/dist-packages (from seaborn==0.9.0) (1.18.5)\n",
            "Requirement already satisfied, skipping upgrade: scipy>=0.14.0 in /usr/local/lib/python3.6/dist-packages (from seaborn==0.9.0) (1.4.1)\n",
            "Requirement already satisfied, skipping upgrade: matplotlib>=1.4.3 in /usr/local/lib/python3.6/dist-packages (from seaborn==0.9.0) (3.2.2)\n",
            "Requirement already satisfied, skipping upgrade: pytz>=2017.2 in /usr/local/lib/python3.6/dist-packages (from pandas>=0.15.2->seaborn==0.9.0) (2018.9)\n",
            "Requirement already satisfied, skipping upgrade: python-dateutil>=2.7.3 in /usr/local/lib/python3.6/dist-packages (from pandas>=0.15.2->seaborn==0.9.0) (2.8.1)\n",
            "Requirement already satisfied, skipping upgrade: kiwisolver>=1.0.1 in /usr/local/lib/python3.6/dist-packages (from matplotlib>=1.4.3->seaborn==0.9.0) (1.3.1)\n",
            "Requirement already satisfied, skipping upgrade: pyparsing!=2.0.4,!=2.1.2,!=2.1.6,>=2.0.1 in /usr/local/lib/python3.6/dist-packages (from matplotlib>=1.4.3->seaborn==0.9.0) (2.4.7)\n",
            "Requirement already satisfied, skipping upgrade: cycler>=0.10 in /usr/local/lib/python3.6/dist-packages (from matplotlib>=1.4.3->seaborn==0.9.0) (0.10.0)\n",
            "Requirement already satisfied, skipping upgrade: six>=1.5 in /usr/local/lib/python3.6/dist-packages (from python-dateutil>=2.7.3->pandas>=0.15.2->seaborn==0.9.0) (1.15.0)\n",
            "Installing collected packages: seaborn\n",
            "  Found existing installation: seaborn 0.11.0\n",
            "    Uninstalling seaborn-0.11.0:\n",
            "      Successfully uninstalled seaborn-0.11.0\n",
            "Successfully installed seaborn-0.9.0\n"
          ],
          "name": "stdout"
        }
      ]
    },
    {
      "cell_type": "code",
      "metadata": {
        "id": "DqFYsp_GZRQm"
      },
      "source": [
        "import mplfinance as mpf"
      ],
      "execution_count": null,
      "outputs": []
    },
    {
      "cell_type": "code",
      "metadata": {
        "colab": {
          "base_uri": "https://localhost:8080/",
          "height": 248
        },
        "id": "JPNQRLPVY39P",
        "outputId": "c442a526-4927-4277-ceef-5b372f082431"
      },
      "source": [
        "import datetime\n",
        "import matplotlib.colors as colors\n",
        "#import matplotlib.finance as finance\n",
        "import matplotlib.dates as mdates\n",
        "import matplotlib.ticker as mticker\n",
        "import matplotlib.mlab as mlab\n",
        "import matplotlib.font_manager as font_manager\n",
        "\n",
        "\n",
        "startdate = datetime.date(2006, 1, 1)\n",
        "today = enddate = datetime.date.today()\n",
        "ticker = 'SPY'\n",
        "\n",
        "\n",
        "fh = mpf\n",
        "# a numpy record array with fields: date, open, high, low, close, volume, adj_close)\n",
        "\n",
        "\n",
        "#r = mlab.csv2rec(fh)\n",
        "r = fh\n",
        "#fh.close()\n",
        "#r.sort()\n",
        "\n",
        "\n",
        "def moving_average(x, n, type='simple'):\n",
        "    \"\"\"\n",
        "    compute an n period moving average.\n",
        "\n",
        "    type is 'simple' | 'exponential'\n",
        "\n",
        "    \"\"\"\n",
        "    x = np.asarray(x)\n",
        "    if type == 'simple':\n",
        "        weights = np.ones(n)\n",
        "    else:\n",
        "        weights = np.exp(np.linspace(-1., 0., n))\n",
        "\n",
        "    weights /= weights.sum()\n",
        "\n",
        "    a = np.convolve(x, weights, mode='full')[:len(x)]\n",
        "    a[:n] = a[n]\n",
        "    return a\n",
        "\n",
        "\n",
        "def relative_strength(prices, n=14):\n",
        "    \"\"\"\n",
        "    compute the n period relative strength indicator\n",
        "    http://stockcharts.com/school/doku.php?id=chart_school:glossary_r#relativestrengthindex\n",
        "    http://www.investopedia.com/terms/r/rsi.asp\n",
        "    \"\"\"\n",
        "\n",
        "    deltas = np.diff(prices)\n",
        "    seed = deltas[:n+1]\n",
        "    up = seed[seed >= 0].sum()/n\n",
        "    down = -seed[seed < 0].sum()/n\n",
        "    rs = up/down\n",
        "    rsi = np.zeros_like(prices)\n",
        "    rsi[:n] = 100. - 100./(1. + rs)\n",
        "\n",
        "    for i in range(n, len(prices)):\n",
        "        delta = deltas[i - 1]  # cause the diff is 1 shorter\n",
        "\n",
        "        if delta > 0:\n",
        "            upval = delta\n",
        "            downval = 0.\n",
        "        else:\n",
        "            upval = 0.\n",
        "            downval = -delta\n",
        "\n",
        "        up = (up*(n - 1) + upval)/n\n",
        "        down = (down*(n - 1) + downval)/n\n",
        "\n",
        "        rs = up/down\n",
        "        rsi[i] = 100. - 100./(1. + rs)\n",
        "\n",
        "    return rsi\n",
        "\n",
        "\n",
        "def moving_average_convergence(x, nslow=26, nfast=12):\n",
        "    \"\"\"\n",
        "    compute the MACD (Moving Average Convergence/Divergence) using a fast and slow exponential moving avg'\n",
        "    return value is emaslow, emafast, macd which are len(x) arrays\n",
        "    \"\"\"\n",
        "    emaslow = moving_average(x, nslow, type='exponential')\n",
        "    emafast = moving_average(x, nfast, type='exponential')\n",
        "    return emaslow, emafast, emafast - emaslow\n",
        "\n",
        "\n",
        "plt.rc('axes', grid=True)\n",
        "plt.rc('grid', color='0.75', linestyle='-', linewidth=0.5)\n",
        "\n",
        "textsize = 9\n",
        "left, width = 0.1, 0.8\n",
        "rect1 = [left, 0.7, width, 0.2]\n",
        "rect2 = [left, 0.3, width, 0.4]\n",
        "rect3 = [left, 0.1, width, 0.2]\n",
        "\n",
        "\n",
        "fig = plt.figure(facecolor='white')\n",
        "axescolor = '#f6f6f6'  # the axes background color\n",
        "\n",
        "#ax1 = fig.add_axes(rect1, axisbg=axescolor)  # left, bottom, width, height\n",
        "#ax2 = fig.add_axes(rect2, axisbg=axescolor, sharex=ax1)\n",
        "#ax2t = ax2.twinx()\n",
        "#ax3 = fig.add_axes(rect3, axisbg=axescolor, sharex=ax1)\n",
        "\n",
        "\n",
        "# plot the relative strength indicator\n",
        "prices = r.adj_close\n",
        "rsi = relative_strength(prices)\n",
        "fillcolor = 'darkgoldenrod'\n",
        "\n",
        "ax1.plot(r.date, rsi, color=fillcolor)\n",
        "ax1.axhline(70, color=fillcolor)\n",
        "ax1.axhline(30, color=fillcolor)\n",
        "ax1.fill_between(r.date, rsi, 70, where=(rsi >= 70), facecolor=fillcolor, edgecolor=fillcolor)\n",
        "ax1.fill_between(r.date, rsi, 30, where=(rsi <= 30), facecolor=fillcolor, edgecolor=fillcolor)\n",
        "ax1.text(0.6, 0.9, '>70 = overbought', va='top', transform=ax1.transAxes, fontsize=textsize)\n",
        "ax1.text(0.6, 0.1, '<30 = oversold', transform=ax1.transAxes, fontsize=textsize)\n",
        "ax1.set_ylim(0, 100)\n",
        "ax1.set_yticks([30, 70])\n",
        "ax1.text(0.025, 0.95, 'RSI (14)', va='top', transform=ax1.transAxes, fontsize=textsize)\n",
        "ax1.set_title('%s daily' % ticker)\n",
        "\n",
        "# plot the price and volume data\n",
        "dx = r.adj_close - r.close\n",
        "low = r.low + dx\n",
        "high = r.high + dx\n",
        "\n",
        "deltas = np.zeros_like(prices)\n",
        "deltas[1:] = np.diff(prices)\n",
        "up = deltas > 0\n",
        "ax2.vlines(r.date[up], low[up], high[up], color='black', label='_nolegend_')\n",
        "ax2.vlines(r.date[~up], low[~up], high[~up], color='black', label='_nolegend_')\n",
        "ma20 = moving_average(prices, 20, type='simple')\n",
        "ma200 = moving_average(prices, 200, type='simple')\n",
        "\n",
        "linema20, = ax2.plot(r.date, ma20, color='blue', lw=2, label='MA (20)')\n",
        "linema200, = ax2.plot(r.date, ma200, color='red', lw=2, label='MA (200)')\n",
        "\n",
        "\n",
        "last = r[-1]\n",
        "s = '%s O:%1.2f H:%1.2f L:%1.2f C:%1.2f, V:%1.1fM Chg:%+1.2f' % (\n",
        "    today.strftime('%d-%b-%Y'),\n",
        "    last.open, last.high,\n",
        "    last.low, last.close,\n",
        "    last.volume*1e-6,\n",
        "    last.close - last.open)\n",
        "t4 = ax2.text(0.3, 0.9, s, transform=ax2.transAxes, fontsize=textsize)\n",
        "\n",
        "props = font_manager.FontProperties(size=10)\n",
        "leg = ax2.legend(loc='center left', shadow=True, fancybox=True, prop=props)\n",
        "leg.get_frame().set_alpha(0.5)\n",
        "\n",
        "\n",
        "volume = (r.close*r.volume)/1e6  # dollar volume in millions\n",
        "vmax = volume.max()\n",
        "poly = ax2t.fill_between(r.date, volume, 0, label='Volume', facecolor=fillcolor, edgecolor=fillcolor)\n",
        "ax2t.set_ylim(0, 5*vmax)\n",
        "ax2t.set_yticks([])\n",
        "\n",
        "\n",
        "# compute the MACD indicator\n",
        "fillcolor = 'darkslategrey'\n",
        "nslow = 26\n",
        "nfast = 12\n",
        "nema = 9\n",
        "emaslow, emafast, macd = moving_average_convergence(prices, nslow=nslow, nfast=nfast)\n",
        "ema9 = moving_average(macd, nema, type='exponential')\n",
        "ax3.plot(r.date, macd, color='black', lw=2)\n",
        "ax3.plot(r.date, ema9, color='blue', lw=1)\n",
        "ax3.fill_between(r.date, macd - ema9, 0, alpha=0.5, facecolor=fillcolor, edgecolor=fillcolor)\n",
        "\n",
        "\n",
        "ax3.text(0.025, 0.95, 'MACD (%d, %d, %d)' % (nfast, nslow, nema), va='top',\n",
        "         transform=ax3.transAxes, fontsize=textsize)\n",
        "\n",
        "#ax3.set_yticks([])\n",
        "# turn off upper axis tick labels, rotate the lower ones, etc\n",
        "for ax in ax1, ax2, ax2t, ax3:\n",
        "    if ax != ax3:\n",
        "        for label in ax.get_xticklabels():\n",
        "            label.set_visible(False)\n",
        "    else:\n",
        "        for label in ax.get_xticklabels():\n",
        "            label.set_rotation(30)\n",
        "            label.set_horizontalalignment('right')\n",
        "\n",
        "    ax.fmt_xdata = mdates.DateFormatter('%Y-%m-%d')\n",
        "\n",
        "\n",
        "class MyLocator(mticker.MaxNLocator):\n",
        "    def __init__(self, *args, **kwargs):\n",
        "        mticker.MaxNLocator.__init__(self, *args, **kwargs)\n",
        "\n",
        "    def __call__(self, *args, **kwargs):\n",
        "        return mticker.MaxNLocator.__call__(self, *args, **kwargs)\n",
        "\n",
        "# at most 5 ticks, pruning the upper and lower so they don't overlap\n",
        "# with other ticks\n",
        "#ax2.yaxis.set_major_locator(mticker.MaxNLocator(5, prune='both'))\n",
        "#ax3.yaxis.set_major_locator(mticker.MaxNLocator(5, prune='both'))\n",
        "\n",
        "ax2.yaxis.set_major_locator(MyLocator(5, prune='both'))\n",
        "ax3.yaxis.set_major_locator(MyLocator(5, prune='both'))\n",
        "\n",
        "plt.show()"
      ],
      "execution_count": null,
      "outputs": [
        {
          "output_type": "error",
          "ename": "AttributeError",
          "evalue": "ignored",
          "traceback": [
            "\u001b[0;31m---------------------------------------------------------------------------\u001b[0m",
            "\u001b[0;31mAttributeError\u001b[0m                            Traceback (most recent call last)",
            "\u001b[0;32m<ipython-input-78-a327a28cd168>\u001b[0m in \u001b[0;36m<module>\u001b[0;34m()\u001b[0m\n\u001b[1;32m    107\u001b[0m \u001b[0;34m\u001b[0m\u001b[0m\n\u001b[1;32m    108\u001b[0m \u001b[0;31m# plot the relative strength indicator\u001b[0m\u001b[0;34m\u001b[0m\u001b[0;34m\u001b[0m\u001b[0;34m\u001b[0m\u001b[0m\n\u001b[0;32m--> 109\u001b[0;31m \u001b[0mprices\u001b[0m \u001b[0;34m=\u001b[0m \u001b[0mr\u001b[0m\u001b[0;34m.\u001b[0m\u001b[0madj_close\u001b[0m\u001b[0;34m\u001b[0m\u001b[0;34m\u001b[0m\u001b[0m\n\u001b[0m\u001b[1;32m    110\u001b[0m \u001b[0mrsi\u001b[0m \u001b[0;34m=\u001b[0m \u001b[0mrelative_strength\u001b[0m\u001b[0;34m(\u001b[0m\u001b[0mprices\u001b[0m\u001b[0;34m)\u001b[0m\u001b[0;34m\u001b[0m\u001b[0;34m\u001b[0m\u001b[0m\n\u001b[1;32m    111\u001b[0m \u001b[0mfillcolor\u001b[0m \u001b[0;34m=\u001b[0m \u001b[0;34m'darkgoldenrod'\u001b[0m\u001b[0;34m\u001b[0m\u001b[0;34m\u001b[0m\u001b[0m\n",
            "\u001b[0;31mAttributeError\u001b[0m: module 'mplfinance' has no attribute 'adj_close'"
          ]
        },
        {
          "output_type": "display_data",
          "data": {
            "text/plain": [
              "<Figure size 432x288 with 0 Axes>"
            ]
          },
          "metadata": {
            "tags": []
          }
        }
      ]
    },
    {
      "cell_type": "code",
      "metadata": {
        "id": "5hEK7VCWkdpH"
      },
      "source": [
        "# neweast available example https://github.com/matplotlib/mplfinance/blob/master/examples/external_axes.ipynb"
      ],
      "execution_count": null,
      "outputs": []
    },
    {
      "cell_type": "markdown",
      "metadata": {
        "id": "okUhOdAvizR3"
      },
      "source": [
        "# This part works fine"
      ]
    },
    {
      "cell_type": "code",
      "metadata": {
        "colab": {
          "base_uri": "https://localhost:8080/",
          "height": 248
        },
        "id": "Qm96GvutY8Y6",
        "outputId": "a96f1d9b-0509-46e2-e5de-1e0b70daac35"
      },
      "source": [
        "from mpl_toolkits.mplot3d import Axes3D\n",
        "from matplotlib import cm\n",
        "\n",
        "n_angles = 36\n",
        "n_radii = 8\n",
        "\n",
        "# An array of radii\n",
        "# Does not include radius r=0, this is to eliminate duplicate points\n",
        "radii = np.linspace(0.125, 1.0, n_radii)\n",
        "\n",
        "# An array of angles\n",
        "angles = np.linspace(0, 2*np.pi, n_angles, endpoint=False)\n",
        "\n",
        "# Repeat all angles for each radius\n",
        "angles = np.repeat(angles[..., np.newaxis], n_radii, axis=1)\n",
        "\n",
        "# Convert polar (radii, angles) coords to cartesian (x, y) coords\n",
        "# (0, 0) is added here. There are no duplicate points in the (x, y) plane\n",
        "x = np.append(0, (radii*np.cos(angles)).flatten())\n",
        "y = np.append(0, (radii*np.sin(angles)).flatten())\n",
        "\n",
        "# Pringle surface\n",
        "z = np.sin(-x*y)\n",
        "\n",
        "fig = plt.figure()\n",
        "ax = fig.gca(projection='3d')\n",
        "\n",
        "ax.plot_trisurf(x, y, z, cmap=cm.jet, linewidth=0.2)\n",
        "\n",
        "plt.show()"
      ],
      "execution_count": null,
      "outputs": [
        {
          "output_type": "display_data",
          "data": {
            "image/png": "[encoded data removed]",
            "text/plain": [
              "<Figure size 432x288 with 1 Axes>"
            ]
          },
          "metadata": {
            "tags": [],
            "needs_background": "light"
          }
        }
      ]
    },
    {
      "cell_type": "code",
      "metadata": {
        "id": "0UONV8j8i3p6"
      },
      "source": [
        ""
      ],
      "execution_count": null,
      "outputs": []
    },
    {
      "cell_type": "markdown",
      "metadata": {
        "id": "Rh_GAFNsl1pE"
      },
      "source": [
        "# Modify arrays"
      ]
    },
    {
      "cell_type": "code",
      "metadata": {
        "colab": {
          "base_uri": "https://localhost:8080/"
        },
        "id": "ZlMDadejl6oE",
        "outputId": "bbe8ed68-4452-4b8d-9615-d247fc58726d"
      },
      "source": [
        "a = np.array(np.arange(24)).reshape(2,3,4)\n",
        "a"
      ],
      "execution_count": null,
      "outputs": [
        {
          "output_type": "execute_result",
          "data": {
            "text/plain": [
              "array([[[ 0,  1,  2,  3],\n",
              "        [ 4,  5,  6,  7],\n",
              "        [ 8,  9, 10, 11]],\n",
              "\n",
              "       [[12, 13, 14, 15],\n",
              "        [16, 17, 18, 19],\n",
              "        [20, 21, 22, 23]]])"
            ]
          },
          "metadata": {
            "tags": []
          },
          "execution_count": 87
        }
      ]
    },
    {
      "cell_type": "code",
      "metadata": {
        "colab": {
          "base_uri": "https://localhost:8080/"
        },
        "id": "QEThL_1gl_Wo",
        "outputId": "cd84c49a-1ce4-45a8-dcdd-01c709b3193f"
      },
      "source": [
        "b=np.append(a, [5,6,7,8])\n",
        "b"
      ],
      "execution_count": null,
      "outputs": [
        {
          "output_type": "execute_result",
          "data": {
            "text/plain": [
              "array([ 0,  1,  2,  3,  4,  5,  6,  7,  8,  9, 10, 11, 12, 13, 14, 15, 16,\n",
              "       17, 18, 19, 20, 21, 22, 23,  5,  6,  7,  8])"
            ]
          },
          "metadata": {
            "tags": []
          },
          "execution_count": 88
        }
      ]
    },
    {
      "cell_type": "code",
      "metadata": {
        "colab": {
          "base_uri": "https://localhost:8080/"
        },
        "id": "v92E0OtOmBjk",
        "outputId": "9a7479ad-95e0-467d-9e4a-073777dcd106"
      },
      "source": [
        "np.insert(b, 1, 666, axis=0)"
      ],
      "execution_count": null,
      "outputs": [
        {
          "output_type": "execute_result",
          "data": {
            "text/plain": [
              "array([  0, 666,   1,   2,   3,   4,   5,   6,   7,   8,   9,  10,  11,\n",
              "        12,  13,  14,  15,  16,  17,  18,  19,  20,  21,  22,  23,   5,\n",
              "         6,   7,   8])"
            ]
          },
          "metadata": {
            "tags": []
          },
          "execution_count": 89
        }
      ]
    },
    {
      "cell_type": "code",
      "metadata": {
        "colab": {
          "base_uri": "https://localhost:8080/"
        },
        "id": "vCg6karomrT1",
        "outputId": "7b1ec263-5f36-413a-8177-d651b741391a"
      },
      "source": [
        "np.delete(b,2)"
      ],
      "execution_count": null,
      "outputs": [
        {
          "output_type": "execute_result",
          "data": {
            "text/plain": [
              "array([ 0,  1,  3,  4,  5,  6,  7,  8,  9, 10, 11, 12, 13, 14, 15, 16, 17,\n",
              "       18, 19, 20, 21, 22, 23,  5,  6,  7,  8])"
            ]
          },
          "metadata": {
            "tags": []
          },
          "execution_count": 90
        }
      ]
    },
    {
      "cell_type": "code",
      "metadata": {
        "colab": {
          "base_uri": "https://localhost:8080/"
        },
        "id": "KXc8px6WZAGt",
        "outputId": "36be9c3a-f378-4c9e-eff4-461ef2920890"
      },
      "source": [
        "a = np.array([[1, 2], [3, 4]])\n",
        "b = np.array([[5, 6]])\n",
        "together = np.concatenate((a, b), axis=0)\n",
        "together"
      ],
      "execution_count": 3,
      "outputs": [
        {
          "output_type": "execute_result",
          "data": {
            "text/plain": [
              "array([[1, 2],\n",
              "       [3, 4],\n",
              "       [5, 6]])"
            ]
          },
          "metadata": {
            "tags": []
          },
          "execution_count": 3
        }
      ]
    },
    {
      "cell_type": "code",
      "metadata": {
        "colab": {
          "base_uri": "https://localhost:8080/"
        },
        "id": "5qX2mZktZCSe",
        "outputId": "a47f31d8-4aec-4ab7-d465-b707f3e86c4f"
      },
      "source": [
        "arrays = np.zeros((3,2,1))\n",
        "for n in range(3):\n",
        "    arrays[n] = np.random.randn(2, 1)\n",
        "    \n",
        "arrays"
      ],
      "execution_count": 4,
      "outputs": [
        {
          "output_type": "execute_result",
          "data": {
            "text/plain": [
              "array([[[ 0.66635703],\n",
              "        [-0.3741365 ]],\n",
              "\n",
              "       [[ 0.30465927],\n",
              "        [-0.965764  ]],\n",
              "\n",
              "       [[ 0.48289528],\n",
              "        [ 0.65970224]]])"
            ]
          },
          "metadata": {
            "tags": []
          },
          "execution_count": 4
        }
      ]
    },
    {
      "cell_type": "code",
      "metadata": {
        "colab": {
          "base_uri": "https://localhost:8080/"
        },
        "id": "bPPdfnQXbG2A",
        "outputId": "5883dbfd-5927-49f0-8c91-04ecd364c886"
      },
      "source": [
        "for n in arrays.flat:\n",
        "    print(n)"
      ],
      "execution_count": 8,
      "outputs": [
        {
          "output_type": "stream",
          "text": [
            "0.6663570348254332\n",
            "-0.3741364992363652\n",
            "0.3046592683051463\n",
            "-0.9657640046109137\n",
            "0.48289527627396855\n",
            "0.6597022356948037\n"
          ],
          "name": "stdout"
        }
      ]
    },
    {
      "cell_type": "code",
      "metadata": {
        "id": "u-4fGeb-btjx"
      },
      "source": [
        "#### https://numpy.org/doc/stable/reference/generated/numpy.ravel.html"
      ],
      "execution_count": null,
      "outputs": []
    },
    {
      "cell_type": "code",
      "metadata": {
        "colab": {
          "base_uri": "https://localhost:8080/"
        },
        "id": "0Fc2R5AXaZIP",
        "outputId": "892622ae-e714-4274-a4c6-c950e027ed60"
      },
      "source": [
        "s0=np.split (arrays, 3, axis=0)\n",
        "s0"
      ],
      "execution_count": 5,
      "outputs": [
        {
          "output_type": "execute_result",
          "data": {
            "text/plain": [
              "[array([[[ 0.66635703],\n",
              "         [-0.3741365 ]]]), array([[[ 0.30465927],\n",
              "         [-0.965764  ]]]), array([[[0.48289528],\n",
              "         [0.65970224]]])]"
            ]
          },
          "metadata": {
            "tags": []
          },
          "execution_count": 5
        }
      ]
    },
    {
      "cell_type": "code",
      "metadata": {
        "colab": {
          "base_uri": "https://localhost:8080/"
        },
        "id": "Ler98_MLatcL",
        "outputId": "d9f34924-b156-41ef-e24c-99004eaf729f"
      },
      "source": [
        "type(s0)"
      ],
      "execution_count": 6,
      "outputs": [
        {
          "output_type": "execute_result",
          "data": {
            "text/plain": [
              "list"
            ]
          },
          "metadata": {
            "tags": []
          },
          "execution_count": 6
        }
      ]
    },
    {
      "cell_type": "code",
      "metadata": {
        "colab": {
          "base_uri": "https://localhost:8080/"
        },
        "id": "eT7JJtmEcLcM",
        "outputId": "f934a761-ffe4-46c5-e019-52a1c86f1ef1"
      },
      "source": [
        "my_start_array = np.array(np.arange(12))\n",
        "my_3_4_array = my_start_array.reshape((3,4))\n",
        "my_2_3_2_array = my_start_array.reshape((2,3,2))\n",
        "my_3_4_array"
      ],
      "execution_count": 12,
      "outputs": [
        {
          "output_type": "execute_result",
          "data": {
            "text/plain": [
              "array([[ 0,  1,  2,  3],\n",
              "       [ 4,  5,  6,  7],\n",
              "       [ 8,  9, 10, 11]])"
            ]
          },
          "metadata": {
            "tags": []
          },
          "execution_count": 12
        }
      ]
    },
    {
      "cell_type": "code",
      "metadata": {
        "colab": {
          "base_uri": "https://localhost:8080/"
        },
        "id": "MD2C61zEcUTd",
        "outputId": "8337e6d4-dcdc-451f-cebe-8862f9d760a7"
      },
      "source": [
        "np.fliplr(my_3_4_array)"
      ],
      "execution_count": 11,
      "outputs": [
        {
          "output_type": "execute_result",
          "data": {
            "text/plain": [
              "array([[ 3,  2,  1,  0],\n",
              "       [ 7,  6,  5,  4],\n",
              "       [11, 10,  9,  8]])"
            ]
          },
          "metadata": {
            "tags": []
          },
          "execution_count": 11
        }
      ]
    },
    {
      "cell_type": "code",
      "metadata": {
        "colab": {
          "base_uri": "https://localhost:8080/"
        },
        "id": "7O85uq-Ac9NH",
        "outputId": "cc7030bd-67bf-4c34-95dc-a8453f161d4c"
      },
      "source": [
        "np.flipud(my_3_4_array)"
      ],
      "execution_count": 15,
      "outputs": [
        {
          "output_type": "execute_result",
          "data": {
            "text/plain": [
              "array([[ 8,  9, 10, 11],\n",
              "       [ 4,  5,  6,  7],\n",
              "       [ 0,  1,  2,  3]])"
            ]
          },
          "metadata": {
            "tags": []
          },
          "execution_count": 15
        }
      ]
    },
    {
      "cell_type": "code",
      "metadata": {
        "colab": {
          "base_uri": "https://localhost:8080/"
        },
        "id": "F8vwQgkJc1fA",
        "outputId": "08b9680a-6173-4e61-ed97-90f7b1e2e85a"
      },
      "source": [
        "my_2_3_2_array"
      ],
      "execution_count": 17,
      "outputs": [
        {
          "output_type": "execute_result",
          "data": {
            "text/plain": [
              "array([[[ 0,  1],\n",
              "        [ 2,  3],\n",
              "        [ 4,  5]],\n",
              "\n",
              "       [[ 6,  7],\n",
              "        [ 8,  9],\n",
              "        [10, 11]]])"
            ]
          },
          "metadata": {
            "tags": []
          },
          "execution_count": 17
        }
      ]
    },
    {
      "cell_type": "code",
      "metadata": {
        "colab": {
          "base_uri": "https://localhost:8080/"
        },
        "id": "cu4Jzma_cUlt",
        "outputId": "64e78396-ee66-4dd8-8722-f0f8f5e62de7"
      },
      "source": [
        "np.fliplr(my_2_3_2_array)"
      ],
      "execution_count": 13,
      "outputs": [
        {
          "output_type": "execute_result",
          "data": {
            "text/plain": [
              "array([[[ 4,  5],\n",
              "        [ 2,  3],\n",
              "        [ 0,  1]],\n",
              "\n",
              "       [[10, 11],\n",
              "        [ 8,  9],\n",
              "        [ 6,  7]]])"
            ]
          },
          "metadata": {
            "tags": []
          },
          "execution_count": 13
        }
      ]
    },
    {
      "cell_type": "code",
      "metadata": {
        "colab": {
          "base_uri": "https://localhost:8080/"
        },
        "id": "y2sMX9t9dIrn",
        "outputId": "974a9247-3364-4ba1-b420-0476a24ce85c"
      },
      "source": [
        "np.flipud(my_2_3_2_array)"
      ],
      "execution_count": 18,
      "outputs": [
        {
          "output_type": "execute_result",
          "data": {
            "text/plain": [
              "array([[[ 6,  7],\n",
              "        [ 8,  9],\n",
              "        [10, 11]],\n",
              "\n",
              "       [[ 0,  1],\n",
              "        [ 2,  3],\n",
              "        [ 4,  5]]])"
            ]
          },
          "metadata": {
            "tags": []
          },
          "execution_count": 18
        }
      ]
    },
    {
      "cell_type": "code",
      "metadata": {
        "colab": {
          "base_uri": "https://localhost:8080/"
        },
        "id": "ONZd6jVOdW3B",
        "outputId": "e48f72a3-5ce4-4b03-c20e-7484669bec31"
      },
      "source": [
        "my_start_array"
      ],
      "execution_count": 19,
      "outputs": [
        {
          "output_type": "execute_result",
          "data": {
            "text/plain": [
              "array([ 0,  1,  2,  3,  4,  5,  6,  7,  8,  9, 10, 11])"
            ]
          },
          "metadata": {
            "tags": []
          },
          "execution_count": 19
        }
      ]
    },
    {
      "cell_type": "code",
      "metadata": {
        "colab": {
          "base_uri": "https://localhost:8080/"
        },
        "id": "P14ucMW-dXdb",
        "outputId": "c9e79fd2-fbcd-49d1-fcdf-d3d4b4b14acc"
      },
      "source": [
        "np.roll(my_start_array, 5)"
      ],
      "execution_count": 20,
      "outputs": [
        {
          "output_type": "execute_result",
          "data": {
            "text/plain": [
              "array([ 7,  8,  9, 10, 11,  0,  1,  2,  3,  4,  5,  6])"
            ]
          },
          "metadata": {
            "tags": []
          },
          "execution_count": 20
        }
      ]
    },
    {
      "cell_type": "code",
      "metadata": {
        "colab": {
          "base_uri": "https://localhost:8080/"
        },
        "id": "Kxnps8vyhZEl",
        "outputId": "aa15c488-19ab-4758-f344-9b1c7c48ef2a"
      },
      "source": [
        "np.rot90(my_3_4_array)"
      ],
      "execution_count": 21,
      "outputs": [
        {
          "output_type": "execute_result",
          "data": {
            "text/plain": [
              "array([[ 3,  7, 11],\n",
              "       [ 2,  6, 10],\n",
              "       [ 1,  5,  9],\n",
              "       [ 0,  4,  8]])"
            ]
          },
          "metadata": {
            "tags": []
          },
          "execution_count": 21
        }
      ]
    },
    {
      "cell_type": "code",
      "metadata": {
        "colab": {
          "base_uri": "https://localhost:8080/"
        },
        "id": "GJKs7eVnh6ES",
        "outputId": "f42859a0-57cb-4b14-8afb-20b6aaad98a7"
      },
      "source": [
        "my_3_4_array"
      ],
      "execution_count": 24,
      "outputs": [
        {
          "output_type": "execute_result",
          "data": {
            "text/plain": [
              "array([[ 0,  1,  2,  3],\n",
              "       [ 4,  5,  6,  7],\n",
              "       [ 8,  9, 10, 11]])"
            ]
          },
          "metadata": {
            "tags": []
          },
          "execution_count": 24
        }
      ]
    },
    {
      "cell_type": "code",
      "metadata": {
        "colab": {
          "base_uri": "https://localhost:8080/"
        },
        "id": "qs4cXHXXh09F",
        "outputId": "8ccf847b-fe29-4292-cef5-11c68bebea74"
      },
      "source": [
        "np.transpose(my_3_4_array)"
      ],
      "execution_count": 22,
      "outputs": [
        {
          "output_type": "execute_result",
          "data": {
            "text/plain": [
              "array([[ 0,  4,  8],\n",
              "       [ 1,  5,  9],\n",
              "       [ 2,  6, 10],\n",
              "       [ 3,  7, 11]])"
            ]
          },
          "metadata": {
            "tags": []
          },
          "execution_count": 22
        }
      ]
    },
    {
      "cell_type": "code",
      "metadata": {
        "id": "FFAmAXeFiLlz"
      },
      "source": [
        "##### http://docs.scipy.org/doc/numpy/reference/generated/numpy.swapaxes.html#numpy.swapaxes\n",
        "##### http://docs.scipy.org/doc/numpy/reference/generated/numpy.rollaxis.html#numpy.rollaxis"
      ],
      "execution_count": null,
      "outputs": []
    },
    {
      "cell_type": "code",
      "metadata": {
        "colab": {
          "base_uri": "https://localhost:8080/"
        },
        "id": "m8-IFx8zi-N4",
        "outputId": "cf1cca3f-ec9f-4b5b-c458-5edd40e4418e"
      },
      "source": [
        "my_start_array"
      ],
      "execution_count": 25,
      "outputs": [
        {
          "output_type": "execute_result",
          "data": {
            "text/plain": [
              "array([ 0,  1,  2,  3,  4,  5,  6,  7,  8,  9, 10, 11])"
            ]
          },
          "metadata": {
            "tags": []
          },
          "execution_count": 25
        }
      ]
    },
    {
      "cell_type": "code",
      "metadata": {
        "colab": {
          "base_uri": "https://localhost:8080/"
        },
        "id": "xyMXveY2i9n5",
        "outputId": "91f9f037-70a4-4e36-d85d-c526eb0cec50"
      },
      "source": [
        "np.tile(my_start_array, 3)"
      ],
      "execution_count": 26,
      "outputs": [
        {
          "output_type": "execute_result",
          "data": {
            "text/plain": [
              "array([ 0,  1,  2,  3,  4,  5,  6,  7,  8,  9, 10, 11,  0,  1,  2,  3,  4,\n",
              "        5,  6,  7,  8,  9, 10, 11,  0,  1,  2,  3,  4,  5,  6,  7,  8,  9,\n",
              "       10, 11])"
            ]
          },
          "metadata": {
            "tags": []
          },
          "execution_count": 26
        }
      ]
    },
    {
      "cell_type": "code",
      "metadata": {
        "colab": {
          "base_uri": "https://localhost:8080/"
        },
        "id": "h39wXfF9jN_0",
        "outputId": "41f4ccd2-963e-420f-923d-3e0fc1c740eb"
      },
      "source": [
        "tile_1 = np.tile(my_start_array, (3, 1))\n",
        "tile_1"
      ],
      "execution_count": 27,
      "outputs": [
        {
          "output_type": "execute_result",
          "data": {
            "text/plain": [
              "array([[ 0,  1,  2,  3,  4,  5,  6,  7,  8,  9, 10, 11],\n",
              "       [ 0,  1,  2,  3,  4,  5,  6,  7,  8,  9, 10, 11],\n",
              "       [ 0,  1,  2,  3,  4,  5,  6,  7,  8,  9, 10, 11]])"
            ]
          },
          "metadata": {
            "tags": []
          },
          "execution_count": 27
        }
      ]
    },
    {
      "cell_type": "code",
      "metadata": {
        "colab": {
          "base_uri": "https://localhost:8080/"
        },
        "id": "bummPk6PjWAe",
        "outputId": "4041d6ac-2cff-484e-be2f-55df083a74ac"
      },
      "source": [
        "np.repeat(my_start_array, 3)"
      ],
      "execution_count": 28,
      "outputs": [
        {
          "output_type": "execute_result",
          "data": {
            "text/plain": [
              "array([ 0,  0,  0,  1,  1,  1,  2,  2,  2,  3,  3,  3,  4,  4,  4,  5,  5,\n",
              "        5,  6,  6,  6,  7,  7,  7,  8,  8,  8,  9,  9,  9, 10, 10, 10, 11,\n",
              "       11, 11])"
            ]
          },
          "metadata": {
            "tags": []
          },
          "execution_count": 28
        }
      ]
    },
    {
      "cell_type": "code",
      "metadata": {
        "id": "3pv22IRGjjnW"
      },
      "source": [
        "##### Universal Functions https://numpy.org/doc/stable/reference/ufuncs.html\n",
        "##### http://docs.scipy.org/doc/numpy-1.10.1/reference/generated/numpy.frompyfunc.html\n",
        "##### http://docs.scipy.org/doc/numpy/reference/generated/numpy.ufunc.outer.html"
      ],
      "execution_count": null,
      "outputs": []
    },
    {
      "cell_type": "code",
      "metadata": {
        "id": "o4xrgrtvlqU-"
      },
      "source": [
        "def truncated_binomial(x):\n",
        "    return (x+1)**3 - (x)**3"
      ],
      "execution_count": 29,
      "outputs": []
    },
    {
      "cell_type": "code",
      "metadata": {
        "id": "btGzmKdGlvSe"
      },
      "source": [
        "np.testing.assert_equal (truncated_binomial(4), 61)"
      ],
      "execution_count": 31,
      "outputs": []
    },
    {
      "cell_type": "code",
      "metadata": {
        "colab": {
          "base_uri": "https://localhost:8080/",
          "height": 333
        },
        "id": "WWZZY-QYlqJv",
        "outputId": "a4b6b364-8562-412d-8375-e139d402f1e1"
      },
      "source": [
        "np.testing.assert_equal (truncated_binomial(4), 65)"
      ],
      "execution_count": 30,
      "outputs": [
        {
          "output_type": "error",
          "ename": "AssertionError",
          "evalue": "ignored",
          "traceback": [
            "\u001b[0;31m---------------------------------------------------------------------------\u001b[0m",
            "\u001b[0;31mAssertionError\u001b[0m                            Traceback (most recent call last)",
            "\u001b[0;32m<ipython-input-30-099fc3196901>\u001b[0m in \u001b[0;36m<module>\u001b[0;34m()\u001b[0m\n\u001b[0;32m----> 1\u001b[0;31m \u001b[0mnp\u001b[0m\u001b[0;34m.\u001b[0m\u001b[0mtesting\u001b[0m\u001b[0;34m.\u001b[0m\u001b[0massert_equal\u001b[0m \u001b[0;34m(\u001b[0m\u001b[0mtruncated_binomial\u001b[0m\u001b[0;34m(\u001b[0m\u001b[0;36m4\u001b[0m\u001b[0;34m)\u001b[0m\u001b[0;34m,\u001b[0m \u001b[0;36m65\u001b[0m\u001b[0;34m)\u001b[0m\u001b[0;34m\u001b[0m\u001b[0;34m\u001b[0m\u001b[0m\n\u001b[0m",
            "\u001b[0;32m/usr/local/lib/python3.6/dist-packages/numpy/testing/_private/utils.py\u001b[0m in \u001b[0;36massert_equal\u001b[0;34m(actual, desired, err_msg, verbose)\u001b[0m\n\u001b[1;32m    426\u001b[0m         \u001b[0;31m# Explicitly use __eq__ for comparison, gh-2552\u001b[0m\u001b[0;34m\u001b[0m\u001b[0;34m\u001b[0m\u001b[0;34m\u001b[0m\u001b[0m\n\u001b[1;32m    427\u001b[0m         \u001b[0;32mif\u001b[0m \u001b[0;32mnot\u001b[0m \u001b[0;34m(\u001b[0m\u001b[0mdesired\u001b[0m \u001b[0;34m==\u001b[0m \u001b[0mactual\u001b[0m\u001b[0;34m)\u001b[0m\u001b[0;34m:\u001b[0m\u001b[0;34m\u001b[0m\u001b[0;34m\u001b[0m\u001b[0m\n\u001b[0;32m--> 428\u001b[0;31m             \u001b[0;32mraise\u001b[0m \u001b[0mAssertionError\u001b[0m\u001b[0;34m(\u001b[0m\u001b[0mmsg\u001b[0m\u001b[0;34m)\u001b[0m\u001b[0;34m\u001b[0m\u001b[0;34m\u001b[0m\u001b[0m\n\u001b[0m\u001b[1;32m    429\u001b[0m \u001b[0;34m\u001b[0m\u001b[0m\n\u001b[1;32m    430\u001b[0m     \u001b[0;32mexcept\u001b[0m \u001b[0;34m(\u001b[0m\u001b[0mDeprecationWarning\u001b[0m\u001b[0;34m,\u001b[0m \u001b[0mFutureWarning\u001b[0m\u001b[0;34m)\u001b[0m \u001b[0;32mas\u001b[0m \u001b[0me\u001b[0m\u001b[0;34m:\u001b[0m\u001b[0;34m\u001b[0m\u001b[0;34m\u001b[0m\u001b[0m\n",
            "\u001b[0;31mAssertionError\u001b[0m: \nItems are not equal:\n ACTUAL: 61\n DESIRED: 65"
          ]
        }
      ]
    },
    {
      "cell_type": "code",
      "metadata": {
        "id": "NzIOtBhaluC_"
      },
      "source": [
        "from numpy.linalg import solve\n",
        "solve(A_matrix, B_matrix)"
      ],
      "execution_count": null,
      "outputs": []
    },
    {
      "cell_type": "code",
      "metadata": {
        "colab": {
          "base_uri": "https://localhost:8080/"
        },
        "id": "ltuZkVpIpV8C",
        "outputId": "dc242799-9079-4aad-d855-6cc35f03c520"
      },
      "source": [
        "my_first_matrix = np.matrix([[3, 1, 4], [1, 5, 9], [2, 6, 5]])\n",
        "# Compute the eigenvalues and right eigenvectors\n",
        "from numpy.linalg import eig\n",
        "eig(my_first_matrix)\n"
      ],
      "execution_count": 32,
      "outputs": [
        {
          "output_type": "execute_result",
          "data": {
            "text/plain": [
              "(array([13.08576474,  2.58000566, -2.66577041]),\n",
              " matrix([[-0.31542644, -0.95117074, -0.32372474],\n",
              "         [-0.72306109,  0.30781323, -0.70222933],\n",
              "         [-0.61456393,  0.02291827,  0.63409484]]))"
            ]
          },
          "metadata": {
            "tags": []
          },
          "execution_count": 32
        }
      ]
    },
    {
      "cell_type": "code",
      "metadata": {
        "id": "-kj2VzAvppiJ"
      },
      "source": [
        "#### numpy.diff https://numpy.org/doc/stable/reference/generated/numpy.diff.html"
      ],
      "execution_count": null,
      "outputs": []
    },
    {
      "cell_type": "code",
      "metadata": {
        "colab": {
          "base_uri": "https://localhost:8080/",
          "height": 357
        },
        "id": "CAfmWuoAqEPU",
        "outputId": "121fbce1-6428-4ee6-c41a-eb1410da84c2"
      },
      "source": [
        "from sympy import init_session\n",
        "init_session() "
      ],
      "execution_count": 37,
      "outputs": [
        {
          "output_type": "error",
          "ename": "MultipleInstanceError",
          "evalue": "ignored",
          "traceback": [
            "\u001b[0;31m---------------------------------------------------------------------------\u001b[0m",
            "\u001b[0;31mMultipleInstanceError\u001b[0m                     Traceback (most recent call last)",
            "\u001b[0;32m<ipython-input-37-d0ae7afa3f0a>\u001b[0m in \u001b[0;36m<module>\u001b[0;34m()\u001b[0m\n\u001b[1;32m      1\u001b[0m \u001b[0;32mfrom\u001b[0m \u001b[0msympy\u001b[0m \u001b[0;32mimport\u001b[0m \u001b[0minit_session\u001b[0m\u001b[0;34m\u001b[0m\u001b[0;34m\u001b[0m\u001b[0m\n\u001b[0;32m----> 2\u001b[0;31m \u001b[0minit_session\u001b[0m\u001b[0;34m(\u001b[0m\u001b[0;34m)\u001b[0m\u001b[0;34m\u001b[0m\u001b[0;34m\u001b[0m\u001b[0m\n\u001b[0m",
            "\u001b[0;32m/usr/local/lib/python3.6/dist-packages/sympy/interactive/session.py\u001b[0m in \u001b[0;36minit_session\u001b[0;34m(ipython, pretty_print, order, use_unicode, use_latex, quiet, auto_symbols, auto_int_to_Integer, str_printer, pretty_printer, latex_printer, argv)\u001b[0m\n\u001b[1;32m    431\u001b[0m     \u001b[0;32melse\u001b[0m\u001b[0;34m:\u001b[0m\u001b[0;34m\u001b[0m\u001b[0;34m\u001b[0m\u001b[0m\n\u001b[1;32m    432\u001b[0m         ip = init_ipython_session(argv=argv, auto_symbols=auto_symbols,\n\u001b[0;32m--> 433\u001b[0;31m             auto_int_to_Integer=auto_int_to_Integer)\n\u001b[0m\u001b[1;32m    434\u001b[0m \u001b[0;34m\u001b[0m\u001b[0m\n\u001b[1;32m    435\u001b[0m         \u001b[0;32mif\u001b[0m \u001b[0mV\u001b[0m\u001b[0;34m(\u001b[0m\u001b[0mIPython\u001b[0m\u001b[0;34m.\u001b[0m\u001b[0m__version__\u001b[0m\u001b[0;34m)\u001b[0m \u001b[0;34m>=\u001b[0m \u001b[0;34m'0.11'\u001b[0m\u001b[0;34m:\u001b[0m\u001b[0;34m\u001b[0m\u001b[0;34m\u001b[0m\u001b[0m\n",
            "\u001b[0;32m/usr/local/lib/python3.6/dist-packages/sympy/interactive/session.py\u001b[0m in \u001b[0;36minit_ipython_session\u001b[0;34m(argv, auto_symbols, auto_int_to_Integer)\u001b[0m\n\u001b[1;32m    262\u001b[0m         \u001b[0;31m# don't draw IPython banner during initialization:\u001b[0m\u001b[0;34m\u001b[0m\u001b[0;34m\u001b[0m\u001b[0;34m\u001b[0m\u001b[0m\n\u001b[1;32m    263\u001b[0m         \u001b[0mapp\u001b[0m\u001b[0;34m.\u001b[0m\u001b[0mdisplay_banner\u001b[0m \u001b[0;34m=\u001b[0m \u001b[0;32mFalse\u001b[0m\u001b[0;34m\u001b[0m\u001b[0;34m\u001b[0m\u001b[0m\n\u001b[0;32m--> 264\u001b[0;31m         \u001b[0mapp\u001b[0m\u001b[0;34m.\u001b[0m\u001b[0minitialize\u001b[0m\u001b[0;34m(\u001b[0m\u001b[0margv\u001b[0m\u001b[0;34m)\u001b[0m\u001b[0;34m\u001b[0m\u001b[0;34m\u001b[0m\u001b[0m\n\u001b[0m\u001b[1;32m    265\u001b[0m \u001b[0;34m\u001b[0m\u001b[0m\n\u001b[1;32m    266\u001b[0m         \u001b[0;32mif\u001b[0m \u001b[0mauto_symbols\u001b[0m\u001b[0;34m:\u001b[0m\u001b[0;34m\u001b[0m\u001b[0;34m\u001b[0m\u001b[0m\n",
            "\u001b[0;32m<decorator-gen-110>\u001b[0m in \u001b[0;36minitialize\u001b[0;34m(self, argv)\u001b[0m\n",
            "\u001b[0;32m/usr/local/lib/python3.6/dist-packages/traitlets/config/application.py\u001b[0m in \u001b[0;36mcatch_config_error\u001b[0;34m(method, app, *args, **kwargs)\u001b[0m\n\u001b[1;32m     85\u001b[0m     \"\"\"\n\u001b[1;32m     86\u001b[0m     \u001b[0;32mtry\u001b[0m\u001b[0;34m:\u001b[0m\u001b[0;34m\u001b[0m\u001b[0;34m\u001b[0m\u001b[0m\n\u001b[0;32m---> 87\u001b[0;31m         \u001b[0;32mreturn\u001b[0m \u001b[0mmethod\u001b[0m\u001b[0;34m(\u001b[0m\u001b[0mapp\u001b[0m\u001b[0;34m,\u001b[0m \u001b[0;34m*\u001b[0m\u001b[0margs\u001b[0m\u001b[0;34m,\u001b[0m \u001b[0;34m**\u001b[0m\u001b[0mkwargs\u001b[0m\u001b[0;34m)\u001b[0m\u001b[0;34m\u001b[0m\u001b[0;34m\u001b[0m\u001b[0m\n\u001b[0m\u001b[1;32m     88\u001b[0m     \u001b[0;32mexcept\u001b[0m \u001b[0;34m(\u001b[0m\u001b[0mTraitError\u001b[0m\u001b[0;34m,\u001b[0m \u001b[0mArgumentError\u001b[0m\u001b[0;34m)\u001b[0m \u001b[0;32mas\u001b[0m \u001b[0me\u001b[0m\u001b[0;34m:\u001b[0m\u001b[0;34m\u001b[0m\u001b[0;34m\u001b[0m\u001b[0m\n\u001b[1;32m     89\u001b[0m         \u001b[0mapp\u001b[0m\u001b[0;34m.\u001b[0m\u001b[0mprint_help\u001b[0m\u001b[0;34m(\u001b[0m\u001b[0;34m)\u001b[0m\u001b[0;34m\u001b[0m\u001b[0;34m\u001b[0m\u001b[0m\n",
            "\u001b[0;32m/usr/local/lib/python3.6/dist-packages/IPython/terminal/ipapp.py\u001b[0m in \u001b[0;36minitialize\u001b[0;34m(self, argv)\u001b[0m\n\u001b[1;32m    314\u001b[0m         \u001b[0mself\u001b[0m\u001b[0;34m.\u001b[0m\u001b[0minit_path\u001b[0m\u001b[0;34m(\u001b[0m\u001b[0;34m)\u001b[0m\u001b[0;34m\u001b[0m\u001b[0;34m\u001b[0m\u001b[0m\n\u001b[1;32m    315\u001b[0m         \u001b[0;31m# create the shell\u001b[0m\u001b[0;34m\u001b[0m\u001b[0;34m\u001b[0m\u001b[0;34m\u001b[0m\u001b[0m\n\u001b[0;32m--> 316\u001b[0;31m         \u001b[0mself\u001b[0m\u001b[0;34m.\u001b[0m\u001b[0minit_shell\u001b[0m\u001b[0;34m(\u001b[0m\u001b[0;34m)\u001b[0m\u001b[0;34m\u001b[0m\u001b[0;34m\u001b[0m\u001b[0m\n\u001b[0m\u001b[1;32m    317\u001b[0m         \u001b[0;31m# and draw the banner\u001b[0m\u001b[0;34m\u001b[0m\u001b[0;34m\u001b[0m\u001b[0;34m\u001b[0m\u001b[0m\n\u001b[1;32m    318\u001b[0m         \u001b[0mself\u001b[0m\u001b[0;34m.\u001b[0m\u001b[0minit_banner\u001b[0m\u001b[0;34m(\u001b[0m\u001b[0;34m)\u001b[0m\u001b[0;34m\u001b[0m\u001b[0;34m\u001b[0m\u001b[0m\n",
            "\u001b[0;32m/usr/local/lib/python3.6/dist-packages/IPython/terminal/ipapp.py\u001b[0m in \u001b[0;36minit_shell\u001b[0;34m(self)\u001b[0m\n\u001b[1;32m    330\u001b[0m         self.shell = self.interactive_shell_class.instance(parent=self,\n\u001b[1;32m    331\u001b[0m                         \u001b[0mprofile_dir\u001b[0m\u001b[0;34m=\u001b[0m\u001b[0mself\u001b[0m\u001b[0;34m.\u001b[0m\u001b[0mprofile_dir\u001b[0m\u001b[0;34m,\u001b[0m\u001b[0;34m\u001b[0m\u001b[0;34m\u001b[0m\u001b[0m\n\u001b[0;32m--> 332\u001b[0;31m                         ipython_dir=self.ipython_dir, user_ns=self.user_ns)\n\u001b[0m\u001b[1;32m    333\u001b[0m         \u001b[0mself\u001b[0m\u001b[0;34m.\u001b[0m\u001b[0mshell\u001b[0m\u001b[0;34m.\u001b[0m\u001b[0mconfigurables\u001b[0m\u001b[0;34m.\u001b[0m\u001b[0mappend\u001b[0m\u001b[0;34m(\u001b[0m\u001b[0mself\u001b[0m\u001b[0;34m)\u001b[0m\u001b[0;34m\u001b[0m\u001b[0;34m\u001b[0m\u001b[0m\n\u001b[1;32m    334\u001b[0m \u001b[0;34m\u001b[0m\u001b[0m\n",
            "\u001b[0;32m/usr/local/lib/python3.6/dist-packages/traitlets/config/configurable.py\u001b[0m in \u001b[0;36minstance\u001b[0;34m(cls, *args, **kwargs)\u001b[0m\n\u001b[1;32m    421\u001b[0m             raise MultipleInstanceError(\n\u001b[1;32m    422\u001b[0m                 \u001b[0;34m'Multiple incompatible subclass instances of '\u001b[0m\u001b[0;34m\u001b[0m\u001b[0;34m\u001b[0m\u001b[0m\n\u001b[0;32m--> 423\u001b[0;31m                 \u001b[0;34m'%s are being created.'\u001b[0m \u001b[0;34m%\u001b[0m \u001b[0mcls\u001b[0m\u001b[0;34m.\u001b[0m\u001b[0m__name__\u001b[0m\u001b[0;34m\u001b[0m\u001b[0;34m\u001b[0m\u001b[0m\n\u001b[0m\u001b[1;32m    424\u001b[0m             )\n\u001b[1;32m    425\u001b[0m \u001b[0;34m\u001b[0m\u001b[0m\n",
            "\u001b[0;31mMultipleInstanceError\u001b[0m: Multiple incompatible subclass instances of TerminalInteractiveShell are being created."
          ]
        }
      ]
    },
    {
      "cell_type": "code",
      "metadata": {
        "id": "--SjB5OUqrVM"
      },
      "source": [
        "%matplotlib inline\n",
        "import scipy as sp\n",
        "import numpy as np\n",
        "import matplotlib.pyplot as plt\n",
        "\n",
        "from scipy.stats import norm"
      ],
      "execution_count": 34,
      "outputs": []
    },
    {
      "cell_type": "code",
      "metadata": {
        "colab": {
          "base_uri": "https://localhost:8080/"
        },
        "id": "Uy6hCYHJC-Am",
        "outputId": "c0c89875-9834-4437-8303-d8c54674d221"
      },
      "source": [
        "number_of_data_points = 99\n",
        "random_data_set = sp.randn(number_of_data_points)\n",
        "random_data_set.mean()"
      ],
      "execution_count": 35,
      "outputs": [
        {
          "output_type": "stream",
          "text": [
            "/usr/local/lib/python3.6/dist-packages/ipykernel_launcher.py:2: DeprecationWarning: scipy.randn is deprecated and will be removed in SciPy 2.0.0, use numpy.random.randn instead\n",
            "  \n"
          ],
          "name": "stderr"
        },
        {
          "output_type": "execute_result",
          "data": {
            "text/plain": [
              "-0.055355924353191324"
            ]
          },
          "metadata": {
            "tags": []
          },
          "execution_count": 35
        }
      ]
    },
    {
      "cell_type": "code",
      "metadata": {
        "colab": {
          "base_uri": "https://localhost:8080/"
        },
        "id": "B3tlz63xDBSB",
        "outputId": "58f41099-3aa1-4c87-944c-242737eb82ad"
      },
      "source": [
        "sp.median(random_data_set)"
      ],
      "execution_count": 36,
      "outputs": [
        {
          "output_type": "stream",
          "text": [
            "/usr/local/lib/python3.6/dist-packages/ipykernel_launcher.py:1: DeprecationWarning: scipy.median is deprecated and will be removed in SciPy 2.0.0, use numpy.median instead\n",
            "  \"\"\"Entry point for launching an IPython kernel.\n"
          ],
          "name": "stderr"
        },
        {
          "output_type": "execute_result",
          "data": {
            "text/plain": [
              "0.012781965673531646"
            ]
          },
          "metadata": {
            "tags": []
          },
          "execution_count": 36
        }
      ]
    },
    {
      "cell_type": "code",
      "metadata": {
        "colab": {
          "base_uri": "https://localhost:8080/"
        },
        "id": "zy6ExdfxDJ4o",
        "outputId": "c9d48caf-1962-4b1d-a1a4-f8fa99433c75"
      },
      "source": [
        "sp.stats.describe(random_data_set)"
      ],
      "execution_count": 38,
      "outputs": [
        {
          "output_type": "execute_result",
          "data": {
            "text/plain": [
              "DescribeResult(nobs=99, minmax=(-2.491924895719646, 2.282134822351415), mean=-0.055355924353191324, variance=0.9950811790260409, skewness=-0.17885875550980915, kurtosis=-0.6095895340992223)"
            ]
          },
          "metadata": {
            "tags": []
          },
          "execution_count": 38
        }
      ]
    },
    {
      "cell_type": "code",
      "metadata": {
        "colab": {
          "base_uri": "https://localhost:8080/"
        },
        "id": "HCx60qeyDTLN",
        "outputId": "307c2f10-4d9b-4d29-bbfd-956be8a34561"
      },
      "source": [
        "my_checker_board = np.zeros((8,8),dtype=int)\n",
        "my_checker_board[1::2,::2] = 1\n",
        "my_checker_board[::2,1::2] = 1\n",
        "print(my_checker_board)"
      ],
      "execution_count": 39,
      "outputs": [
        {
          "output_type": "stream",
          "text": [
            "[[0 1 0 1 0 1 0 1]\n",
            " [1 0 1 0 1 0 1 0]\n",
            " [0 1 0 1 0 1 0 1]\n",
            " [1 0 1 0 1 0 1 0]\n",
            " [0 1 0 1 0 1 0 1]\n",
            " [1 0 1 0 1 0 1 0]\n",
            " [0 1 0 1 0 1 0 1]\n",
            " [1 0 1 0 1 0 1 0]]\n"
          ],
          "name": "stdout"
        }
      ]
    },
    {
      "cell_type": "code",
      "metadata": {
        "colab": {
          "base_uri": "https://localhost:8080/"
        },
        "id": "HkpyzgCPEDaT",
        "outputId": "f3983a81-9b78-495d-c193-60e801104a88"
      },
      "source": [
        "my_alternative_checker_board = np.tile( np.array([[0,1],[1,0]]), (4,4))\n",
        "print(my_alternative_checker_board)"
      ],
      "execution_count": 40,
      "outputs": [
        {
          "output_type": "stream",
          "text": [
            "[[0 1 0 1 0 1 0 1]\n",
            " [1 0 1 0 1 0 1 0]\n",
            " [0 1 0 1 0 1 0 1]\n",
            " [1 0 1 0 1 0 1 0]\n",
            " [0 1 0 1 0 1 0 1]\n",
            " [1 0 1 0 1 0 1 0]\n",
            " [0 1 0 1 0 1 0 1]\n",
            " [1 0 1 0 1 0 1 0]]\n"
          ],
          "name": "stdout"
        }
      ]
    },
    {
      "cell_type": "code",
      "metadata": {
        "colab": {
          "base_uri": "https://localhost:8080/",
          "height": 197
        },
        "id": "QVKSeNpoEDsw",
        "outputId": "b5c6b73c-b511-48f1-d9f6-5fa8a2738791"
      },
      "source": [
        "my_ordinary_array = np.array(np.arange(12))\n",
        "my_ordinary_array.flags.writeable = False\n",
        "my_ordinary_array[5] = 1234"
      ],
      "execution_count": 41,
      "outputs": [
        {
          "output_type": "error",
          "ename": "ValueError",
          "evalue": "ignored",
          "traceback": [
            "\u001b[0;31m---------------------------------------------------------------------------\u001b[0m",
            "\u001b[0;31mValueError\u001b[0m                                Traceback (most recent call last)",
            "\u001b[0;32m<ipython-input-41-94debd1ee0c6>\u001b[0m in \u001b[0;36m<module>\u001b[0;34m()\u001b[0m\n\u001b[1;32m      1\u001b[0m \u001b[0mmy_ordinary_array\u001b[0m \u001b[0;34m=\u001b[0m \u001b[0mnp\u001b[0m\u001b[0;34m.\u001b[0m\u001b[0marray\u001b[0m\u001b[0;34m(\u001b[0m\u001b[0mnp\u001b[0m\u001b[0;34m.\u001b[0m\u001b[0marange\u001b[0m\u001b[0;34m(\u001b[0m\u001b[0;36m12\u001b[0m\u001b[0;34m)\u001b[0m\u001b[0;34m)\u001b[0m\u001b[0;34m\u001b[0m\u001b[0;34m\u001b[0m\u001b[0m\n\u001b[1;32m      2\u001b[0m \u001b[0mmy_ordinary_array\u001b[0m\u001b[0;34m.\u001b[0m\u001b[0mflags\u001b[0m\u001b[0;34m.\u001b[0m\u001b[0mwriteable\u001b[0m \u001b[0;34m=\u001b[0m \u001b[0;32mFalse\u001b[0m\u001b[0;34m\u001b[0m\u001b[0;34m\u001b[0m\u001b[0m\n\u001b[0;32m----> 3\u001b[0;31m \u001b[0mmy_ordinary_array\u001b[0m\u001b[0;34m[\u001b[0m\u001b[0;36m5\u001b[0m\u001b[0;34m]\u001b[0m \u001b[0;34m=\u001b[0m \u001b[0;36m1234\u001b[0m\u001b[0;34m\u001b[0m\u001b[0;34m\u001b[0m\u001b[0m\n\u001b[0m",
            "\u001b[0;31mValueError\u001b[0m: assignment destination is read-only"
          ]
        }
      ]
    },
    {
      "cell_type": "code",
      "metadata": {
        "colab": {
          "base_uri": "https://localhost:8080/"
        },
        "id": "STIM4rFgE7Dx",
        "outputId": "e3f53b7e-7f06-40db-b719-009508534a17"
      },
      "source": [
        "equation_coefficients = [3, 4, -95]\n",
        "np.roots(equation_coefficients)"
      ],
      "execution_count": 42,
      "outputs": [
        {
          "output_type": "execute_result",
          "data": {
            "text/plain": [
              "array([-6.33333333,  5.        ])"
            ]
          },
          "metadata": {
            "tags": []
          },
          "execution_count": 42
        }
      ]
    }
  ]
}